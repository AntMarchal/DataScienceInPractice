{
 "cells": [
  {
   "cell_type": "markdown",
   "metadata": {},
   "source": [
    "# Executive summary"
   ]
  },
  {
   "cell_type": "markdown",
   "metadata": {},
   "source": [
    "## Table of contents"
   ]
  },
  {
   "cell_type": "markdown",
   "metadata": {},
   "source": [
    "* [1. Introduction](#Introduction)\n",
    "* [2. Exploratory Data Analysis](#ExploratoryDataAnalysis)\n",
    "    * [2.1 Bla](#Bla)\n",
    "    * [2.1 Blu](#Blu)\n",
    "    * [2.1 Feature Selection](#FeatureSelection)\n",
    "        * [2.1.1 Correlation Of Feature](#CorrelationOfFeature)\n",
    "        * [2.1.1 Univariate Selection](#UnivariateSelection)\n",
    "        * [2.1.1 Feature Importance](#FeatureImportance)\n",
    "* [3. Conclusion](#Conclusion)\n",
    "        \n",
    "    \n"
   ]
  },
  {
   "cell_type": "markdown",
   "metadata": {},
   "source": [
    "## 1. Introduction <a class=\"anchor\" id=\"Introduction\"></a>"
   ]
  },
  {
   "cell_type": "markdown",
   "metadata": {},
   "source": [
    "## 2. Exploratory Data Analysis <a class=\"anchor\" id=\"ExploratoryDataAnalysis\"></a>"
   ]
  },
  {
   "cell_type": "markdown",
   "metadata": {},
   "source": [
    "**2.1 Bla** <a class=\"anchor\" id=\"Bla\"></a>"
   ]
  },
  {
   "cell_type": "markdown",
   "metadata": {},
   "source": [
    "**2.1 Blu** <a class=\"anchor\" id=\"Blu\"></a>"
   ]
  },
  {
   "cell_type": "markdown",
   "metadata": {},
   "source": [
    "**2.1 Feature Selection** <a class=\"anchor\" id=\"FeatureSelection\"></a>\n",
    "\n",
    "**Before starting the feature selection per se, we do a little of feature engineering**:\n",
    "- **Create a new variable 'MonthlyExpense' = 'TotalCharges'/'tenure'**: As we are intrested in the lifetime value of the contracts, we can compute the average monthly expense of each customer, then the lifetime value of the contracts could be extrapolate from the average lifetime of the contracts. Therefore the feature selection will consist in identifying which features have the most explanatory power regarding this new feature 'MonthlyExpense'. As we already suspect, by construction, some features such as 'TotalCharges', 'tenure' and 'MonthlyCharges' will certainly be highly correlated with 'MonthlyExpense' and could be discarded in the subsequent feature importance analysis in order to obtain a better resolution of the other features contribution to our dependent variable.\n",
    "- **Transform the categorical variable into numerical values**: Indeed as we have seen during de preliminary data inspection, we have a lot of categorical feature that we will need to map to numerical value. When it is a binary value, e.g. yes/no or male/female we can directly replace it by 0 or I. When there is more possibility like for the 'contract' feature we will use the pd.factorize() function to establish a numerical mapping. Furthermore, notice that some feature present redundant information such as the 'No phone service' information that is already present in the 'PhoneService' feature and the 'No internet service' present in all the internet related services features that could be placed in a separated feature: 'InternetService' under the form of true or false (an additional column will be created for 'Fiber'->True/False). Proceeding this way most of the categorical feature will become binary except 'contract' and 'payement method'."
   ]
  },
  {
   "cell_type": "markdown",
   "metadata": {},
   "source": [
    "***2.1.1 Correlation Of Feature*** <a class=\"anchor\" id=\"CorrelationOfFeature\"></a>\n",
    "\n",
    "As mentioned before, by construction, we already expected a high correlation with 'TotalCharges' and 'MonthlyCharges'. Without taking them into account, the highest correlated features with 'MonthlyExpense' are:\n",
    "- 'Fiber'\n",
    "- 'Internet'\n",
    "- 'StreamingMovies'\n",
    "- 'StreamingTV'\n"
   ]
  },
  {
   "cell_type": "markdown",
   "metadata": {},
   "source": [
    "***2.1.1 Univariate Selection*** <a class=\"anchor\" id=\"UnivariateSelection\"></a>\n",
    "\n",
    "We perform a serie of univariate regression of the dependent variable ('MonthlyExpense') on each individual feature to observe the individual effect of each of them. \n",
    "\n",
    "Once again discarding 'TotalCharges' and 'MonthlyCharges', the top five F-score obtained in these univariate regression are for the following feature:\n",
    "- 'Fiber'\n",
    "- 'Internet'\n",
    "- 'StreamingMovies'\n",
    "- 'StreamingTV'\n",
    "- 'MultipleLines'\n",
    "\n",
    "Regarding their p-values all of them are statistically relevant.\n"
   ]
  },
  {
   "cell_type": "markdown",
   "metadata": {},
   "source": [
    "***2.1.1 Feature Importance*** <a class=\"anchor\" id=\"FeatureImportance\"></a>\n",
    "\n",
    "Feature importance gives a score for each feature of your data based on an inbuilt class that comes with Tree Based Classifiers, the higher the score more important or relevant is the feature towards the output variable.\n",
    "once again the top five is given by:\n",
    "- 'Fiber'\n",
    "- 'Internet'\n",
    "- 'StreamingMovies'\n",
    "- 'StreamingTV' == 'PhoneServices'\n"
   ]
  },
  {
   "cell_type": "markdown",
   "metadata": {},
   "source": [
    "## 3. Conclusion <a class=\"anchor\" id=\"Conclusion\"></a>\n",
    "\n",
    "'Fiber', 'Internet', 'StreamingMovies' and 'StreamingTV' probably play a determinant role in the explanation of the  'MonthlyExpense' and a fortiori of the lifetime value of the contracts.\n"
   ]
  },
  {
   "cell_type": "code",
   "execution_count": 6,
   "metadata": {},
   "outputs": [
    {
     "data": {
      "text/plain": [
       "0"
      ]
     },
     "execution_count": 6,
     "metadata": {},
     "output_type": "execute_result"
    }
   ],
   "source": [
    "import os\n",
    "\n",
    "os.system('jupyter nbconvert --to html Executive_Summary.ipynb')"
   ]
  },
  {
   "cell_type": "code",
   "execution_count": null,
   "metadata": {},
   "outputs": [],
   "source": []
  }
 ],
 "metadata": {
  "kernelspec": {
   "display_name": "Python 3",
   "language": "python",
   "name": "python3"
  },
  "language_info": {
   "codemirror_mode": {
    "name": "ipython",
    "version": 3
   },
   "file_extension": ".py",
   "mimetype": "text/x-python",
   "name": "python",
   "nbconvert_exporter": "python",
   "pygments_lexer": "ipython3",
   "version": "3.7.3"
  }
 },
 "nbformat": 4,
 "nbformat_minor": 2
}
