{
 "cells": [
  {
   "cell_type": "code",
   "execution_count": 1,
   "metadata": {},
   "outputs": [],
   "source": [
    "import numpy as np\n",
    "import pandas as pd\n",
    "import matplotlib.pyplot as plt\n",
    "import sklearn as sk\n",
    "import seaborn as sns"
   ]
  },
  {
   "cell_type": "markdown",
   "metadata": {},
   "source": [
    "# Data loading and cleaning"
   ]
  },
  {
   "cell_type": "markdown",
   "metadata": {},
   "source": [
    "## Loading"
   ]
  },
  {
   "cell_type": "code",
   "execution_count": 2,
   "metadata": {},
   "outputs": [],
   "source": [
    "df_list_PL = [pd.read_csv('../data/PREMIER_LEAGUE/PL_'+str(year)+'.csv') for year in np.arange(2013,2019)]\n",
    "df_list_E1 = [pd.read_csv('../data/CHAMPIONSHIP/E1_'+str(year)+'.csv') for year in np.arange(2013,2019)]\n",
    "df_list_E2 = [pd.read_csv('../data/LEAGUE1/E2_'+str(year)+'.csv') for year in np.arange(2013,2019)]\n",
    "df_list = df_list_PL + df_list_E1 + df_list_E2\n",
    "data = pd.concat(df_list, ignore_index=True, sort=False)\n",
    "# Convert date to datetime\n",
    "data['Date'] = pd.to_datetime(data['Date'])\n",
    "data.sort_values(by='Date',inplace=True)\n",
    "data.reset_index(drop=True,inplace=True)"
   ]
  },
  {
   "cell_type": "code",
   "execution_count": 3,
   "metadata": {},
   "outputs": [
    {
     "data": {
      "text/html": [
       "<div>\n",
       "<style scoped>\n",
       "    .dataframe tbody tr th:only-of-type {\n",
       "        vertical-align: middle;\n",
       "    }\n",
       "\n",
       "    .dataframe tbody tr th {\n",
       "        vertical-align: top;\n",
       "    }\n",
       "\n",
       "    .dataframe thead th {\n",
       "        text-align: right;\n",
       "    }\n",
       "</style>\n",
       "<table border=\"1\" class=\"dataframe\">\n",
       "  <thead>\n",
       "    <tr style=\"text-align: right;\">\n",
       "      <th></th>\n",
       "      <th>Div</th>\n",
       "      <th>Date</th>\n",
       "      <th>HomeTeam</th>\n",
       "      <th>AwayTeam</th>\n",
       "      <th>FTHG</th>\n",
       "      <th>FTAG</th>\n",
       "      <th>FTR</th>\n",
       "      <th>HTHG</th>\n",
       "      <th>HTAG</th>\n",
       "      <th>HTR</th>\n",
       "      <th>...</th>\n",
       "      <th>BbAv&lt;2.5</th>\n",
       "      <th>BbAH</th>\n",
       "      <th>BbAHh</th>\n",
       "      <th>BbMxAHH</th>\n",
       "      <th>BbAvAHH</th>\n",
       "      <th>BbMxAHA</th>\n",
       "      <th>BbAvAHA</th>\n",
       "      <th>PSCH</th>\n",
       "      <th>PSCD</th>\n",
       "      <th>PSCA</th>\n",
       "    </tr>\n",
       "  </thead>\n",
       "  <tbody>\n",
       "    <tr>\n",
       "      <th>0</th>\n",
       "      <td>E1</td>\n",
       "      <td>2012-01-09</td>\n",
       "      <td>Hull</td>\n",
       "      <td>Bolton</td>\n",
       "      <td>3.0</td>\n",
       "      <td>1.0</td>\n",
       "      <td>H</td>\n",
       "      <td>1.0</td>\n",
       "      <td>1.0</td>\n",
       "      <td>D</td>\n",
       "      <td>...</td>\n",
       "      <td>1.64</td>\n",
       "      <td>20.0</td>\n",
       "      <td>0.00</td>\n",
       "      <td>1.80</td>\n",
       "      <td>1.76</td>\n",
       "      <td>2.16</td>\n",
       "      <td>2.08</td>\n",
       "      <td>2.54</td>\n",
       "      <td>3.35</td>\n",
       "      <td>3.03</td>\n",
       "    </tr>\n",
       "    <tr>\n",
       "      <th>1</th>\n",
       "      <td>E2</td>\n",
       "      <td>2012-01-09</td>\n",
       "      <td>Yeovil</td>\n",
       "      <td>Doncaster</td>\n",
       "      <td>2.0</td>\n",
       "      <td>1.0</td>\n",
       "      <td>H</td>\n",
       "      <td>0.0</td>\n",
       "      <td>0.0</td>\n",
       "      <td>D</td>\n",
       "      <td>...</td>\n",
       "      <td>1.90</td>\n",
       "      <td>18.0</td>\n",
       "      <td>0.00</td>\n",
       "      <td>1.76</td>\n",
       "      <td>1.71</td>\n",
       "      <td>2.25</td>\n",
       "      <td>2.18</td>\n",
       "      <td>2.21</td>\n",
       "      <td>3.47</td>\n",
       "      <td>3.44</td>\n",
       "    </tr>\n",
       "    <tr>\n",
       "      <th>2</th>\n",
       "      <td>E2</td>\n",
       "      <td>2012-01-09</td>\n",
       "      <td>Walsall</td>\n",
       "      <td>Brentford</td>\n",
       "      <td>2.0</td>\n",
       "      <td>2.0</td>\n",
       "      <td>D</td>\n",
       "      <td>2.0</td>\n",
       "      <td>0.0</td>\n",
       "      <td>H</td>\n",
       "      <td>...</td>\n",
       "      <td>1.66</td>\n",
       "      <td>18.0</td>\n",
       "      <td>0.00</td>\n",
       "      <td>2.28</td>\n",
       "      <td>2.19</td>\n",
       "      <td>1.75</td>\n",
       "      <td>1.70</td>\n",
       "      <td>3.51</td>\n",
       "      <td>3.29</td>\n",
       "      <td>2.29</td>\n",
       "    </tr>\n",
       "    <tr>\n",
       "      <th>3</th>\n",
       "      <td>E2</td>\n",
       "      <td>2012-01-09</td>\n",
       "      <td>Tranmere</td>\n",
       "      <td>Colchester</td>\n",
       "      <td>4.0</td>\n",
       "      <td>0.0</td>\n",
       "      <td>H</td>\n",
       "      <td>1.0</td>\n",
       "      <td>0.0</td>\n",
       "      <td>H</td>\n",
       "      <td>...</td>\n",
       "      <td>1.65</td>\n",
       "      <td>16.0</td>\n",
       "      <td>-0.50</td>\n",
       "      <td>2.04</td>\n",
       "      <td>1.98</td>\n",
       "      <td>1.92</td>\n",
       "      <td>1.88</td>\n",
       "      <td>2.10</td>\n",
       "      <td>3.46</td>\n",
       "      <td>3.86</td>\n",
       "    </tr>\n",
       "    <tr>\n",
       "      <th>4</th>\n",
       "      <td>E2</td>\n",
       "      <td>2012-01-09</td>\n",
       "      <td>Sheffield United</td>\n",
       "      <td>Bournemouth</td>\n",
       "      <td>5.0</td>\n",
       "      <td>3.0</td>\n",
       "      <td>H</td>\n",
       "      <td>3.0</td>\n",
       "      <td>1.0</td>\n",
       "      <td>H</td>\n",
       "      <td>...</td>\n",
       "      <td>1.87</td>\n",
       "      <td>16.0</td>\n",
       "      <td>-0.75</td>\n",
       "      <td>2.25</td>\n",
       "      <td>2.19</td>\n",
       "      <td>1.77</td>\n",
       "      <td>1.72</td>\n",
       "      <td>1.93</td>\n",
       "      <td>3.62</td>\n",
       "      <td>4.34</td>\n",
       "    </tr>\n",
       "  </tbody>\n",
       "</table>\n",
       "<p>5 rows × 74 columns</p>\n",
       "</div>"
      ],
      "text/plain": [
       "  Div       Date          HomeTeam     AwayTeam  FTHG  FTAG FTR  HTHG  HTAG  \\\n",
       "0  E1 2012-01-09              Hull       Bolton   3.0   1.0   H   1.0   1.0   \n",
       "1  E2 2012-01-09            Yeovil    Doncaster   2.0   1.0   H   0.0   0.0   \n",
       "2  E2 2012-01-09           Walsall    Brentford   2.0   2.0   D   2.0   0.0   \n",
       "3  E2 2012-01-09          Tranmere   Colchester   4.0   0.0   H   1.0   0.0   \n",
       "4  E2 2012-01-09  Sheffield United  Bournemouth   5.0   3.0   H   3.0   1.0   \n",
       "\n",
       "  HTR  ... BbAv<2.5  BbAH  BbAHh  BbMxAHH  BbAvAHH  BbMxAHA  BbAvAHA  PSCH  \\\n",
       "0   D  ...     1.64  20.0   0.00     1.80     1.76     2.16     2.08  2.54   \n",
       "1   D  ...     1.90  18.0   0.00     1.76     1.71     2.25     2.18  2.21   \n",
       "2   H  ...     1.66  18.0   0.00     2.28     2.19     1.75     1.70  3.51   \n",
       "3   H  ...     1.65  16.0  -0.50     2.04     1.98     1.92     1.88  2.10   \n",
       "4   H  ...     1.87  16.0  -0.75     2.25     2.19     1.77     1.72  1.93   \n",
       "\n",
       "   PSCD  PSCA  \n",
       "0  3.35  3.03  \n",
       "1  3.47  3.44  \n",
       "2  3.29  2.29  \n",
       "3  3.46  3.86  \n",
       "4  3.62  4.34  \n",
       "\n",
       "[5 rows x 74 columns]"
      ]
     },
     "execution_count": 3,
     "metadata": {},
     "output_type": "execute_result"
    }
   ],
   "source": [
    "data.head()"
   ]
  },
  {
   "cell_type": "markdown",
   "metadata": {},
   "source": [
    "## Cleaning"
   ]
  },
  {
   "cell_type": "markdown",
   "metadata": {},
   "source": [
    "We identify the feature with more than 10% of Nan and we remove them"
   ]
  },
  {
   "cell_type": "code",
   "execution_count": 4,
   "metadata": {},
   "outputs": [
    {
     "data": {
      "text/plain": [
       "<matplotlib.axes._subplots.AxesSubplot at 0x26320ada908>"
      ]
     },
     "execution_count": 4,
     "metadata": {},
     "output_type": "execute_result"
    },
    {
     "data": {
      "image/png": "[encoded data removed]",
      "text/plain": [
       "<Figure size 432x288 with 1 Axes>"
      ]
     },
     "metadata": {
      "needs_background": "light"
     },
     "output_type": "display_data"
    }
   ],
   "source": [
    "data.isnull().sum().plot()"
   ]
  },
  {
   "cell_type": "code",
   "execution_count": 5,
   "metadata": {},
   "outputs": [],
   "source": [
    "# Feature with more than 10% of NaN\n",
    "NaN_feature = data.isnull().sum()[data.isnull().sum()>0.10*len(data)].index\n",
    "\n",
    "# Drop them\n",
    "data.drop(columns = NaN_feature, inplace=True)"
   ]
  },
  {
   "cell_type": "markdown",
   "metadata": {},
   "source": [
    "We drop row (match) for wich there is still Nan in the feature"
   ]
  },
  {
   "cell_type": "code",
   "execution_count": 6,
   "metadata": {},
   "outputs": [
    {
     "data": {
      "text/plain": [
       "0"
      ]
     },
     "execution_count": 6,
     "metadata": {},
     "output_type": "execute_result"
    }
   ],
   "source": [
    "# Drop row with nan\n",
    "data.dropna(axis=0,how='any',inplace=True)\n",
    "\n",
    "data.isnull().sum().sum()"
   ]
  },
  {
   "cell_type": "markdown",
   "metadata": {},
   "source": [
    "# Exploratory Data Analysis"
   ]
  },
  {
   "cell_type": "markdown",
   "metadata": {},
   "source": [
    "## Description of variables"
   ]
  },
  {
   "cell_type": "code",
   "execution_count": 7,
   "metadata": {},
   "outputs": [
    {
     "name": "stdout",
     "output_type": "stream",
     "text": [
      "<class 'pandas.core.frame.DataFrame'>\n",
      "Int64Index: 8826 entries, 0 to 8903\n",
      "Data columns (total 64 columns):\n",
      " #   Column    Non-Null Count  Dtype         \n",
      "---  ------    --------------  -----         \n",
      " 0   Div       8826 non-null   object        \n",
      " 1   Date      8826 non-null   datetime64[ns]\n",
      " 2   HomeTeam  8826 non-null   object        \n",
      " 3   AwayTeam  8826 non-null   object        \n",
      " 4   FTHG      8826 non-null   float64       \n",
      " 5   FTAG      8826 non-null   float64       \n",
      " 6   FTR       8826 non-null   object        \n",
      " 7   HTHG      8826 non-null   float64       \n",
      " 8   HTAG      8826 non-null   float64       \n",
      " 9   HTR       8826 non-null   object        \n",
      " 10  HS        8826 non-null   float64       \n",
      " 11  AS        8826 non-null   float64       \n",
      " 12  HST       8826 non-null   float64       \n",
      " 13  AST       8826 non-null   float64       \n",
      " 14  HF        8826 non-null   float64       \n",
      " 15  AF        8826 non-null   float64       \n",
      " 16  HC        8826 non-null   float64       \n",
      " 17  AC        8826 non-null   float64       \n",
      " 18  HY        8826 non-null   float64       \n",
      " 19  AY        8826 non-null   float64       \n",
      " 20  HR        8826 non-null   float64       \n",
      " 21  AR        8826 non-null   float64       \n",
      " 22  B365H     8826 non-null   float64       \n",
      " 23  B365D     8826 non-null   float64       \n",
      " 24  B365A     8826 non-null   float64       \n",
      " 25  BWH       8826 non-null   float64       \n",
      " 26  BWD       8826 non-null   float64       \n",
      " 27  BWA       8826 non-null   float64       \n",
      " 28  IWH       8826 non-null   float64       \n",
      " 29  IWD       8826 non-null   float64       \n",
      " 30  IWA       8826 non-null   float64       \n",
      " 31  LBH       8826 non-null   float64       \n",
      " 32  LBD       8826 non-null   float64       \n",
      " 33  LBA       8826 non-null   float64       \n",
      " 34  PSH       8826 non-null   float64       \n",
      " 35  PSD       8826 non-null   float64       \n",
      " 36  PSA       8826 non-null   float64       \n",
      " 37  WHH       8826 non-null   float64       \n",
      " 38  WHD       8826 non-null   float64       \n",
      " 39  WHA       8826 non-null   float64       \n",
      " 40  VCH       8826 non-null   float64       \n",
      " 41  VCD       8826 non-null   float64       \n",
      " 42  VCA       8826 non-null   float64       \n",
      " 43  Bb1X2     8826 non-null   float64       \n",
      " 44  BbMxH     8826 non-null   float64       \n",
      " 45  BbAvH     8826 non-null   float64       \n",
      " 46  BbMxD     8826 non-null   float64       \n",
      " 47  BbAvD     8826 non-null   float64       \n",
      " 48  BbMxA     8826 non-null   float64       \n",
      " 49  BbAvA     8826 non-null   float64       \n",
      " 50  BbOU      8826 non-null   float64       \n",
      " 51  BbMx>2.5  8826 non-null   float64       \n",
      " 52  BbAv>2.5  8826 non-null   float64       \n",
      " 53  BbMx<2.5  8826 non-null   float64       \n",
      " 54  BbAv<2.5  8826 non-null   float64       \n",
      " 55  BbAH      8826 non-null   float64       \n",
      " 56  BbAHh     8826 non-null   float64       \n",
      " 57  BbMxAHH   8826 non-null   float64       \n",
      " 58  BbAvAHH   8826 non-null   float64       \n",
      " 59  BbMxAHA   8826 non-null   float64       \n",
      " 60  BbAvAHA   8826 non-null   float64       \n",
      " 61  PSCH      8826 non-null   float64       \n",
      " 62  PSCD      8826 non-null   float64       \n",
      " 63  PSCA      8826 non-null   float64       \n",
      "dtypes: datetime64[ns](1), float64(58), object(5)\n",
      "memory usage: 4.4+ MB\n"
     ]
    }
   ],
   "source": [
    "data.info(verbose=True)"
   ]
  },
  {
   "cell_type": "markdown",
   "metadata": {},
   "source": [
    "\n",
    "Key to results data:\n",
    "\n",
    "- Div = League Division\n",
    "- Date = Match Date (dd/mm/yy)\n",
    "- HomeTeam = Home Team\n",
    "- AwayTeam = Away Team\n",
    "- FTHG and HG = Full Time Home Team Goals\n",
    "- FTAG and AG = Full Time Away Team Goals\n",
    "- FTR and Res = Full Time Result (H=Home Win, D=Draw, A=Away Win)\n",
    "- HTHG = Half Time Home Team Goals\n",
    "- HTAG = Half Time Away Team Goals\n",
    "- HTR = Half Time Result (H=Home Win, D=Draw, A=Away Win)\n",
    "\n",
    "Match Statistics \n",
    "\n",
    "- HS = Home Team Shots\n",
    "- AS = Away Team Shots\n",
    "- HST = Home Team Shots on Target\n",
    "- AST = Away Team Shots on Target\n",
    "- HC = Home Team Corners\n",
    "- AC = Away Team Corners\n",
    "- HY = Home Team Yellow Cards\n",
    "- AY = Away Team Yellow Cards\n",
    "- HR = Home Team Red Cards\n",
    "- AR = Away Team Red Cards\n",
    "\n",
    "\n",
    "Home win, Draw, or Away win betting odds:\n",
    "\n",
    "- B365H = Bet365 home win odds\n",
    "- B365D = Bet365 draw odds\n",
    "- B365A = Bet365 away win odds\n",
    "- BWH = Bet&Win home win odds\n",
    "- BWD = Bet&Win draw odds\n",
    "- BWA = Bet&Win away win odds\n",
    "- IWH = Interwetten home win odds\n",
    "- IWD = Interwetten draw odds\n",
    "- IWA = Interwetten away win odds\n",
    "- LBH = Ladbrokes home win odds\n",
    "- LBD = Ladbrokes draw odds\n",
    "- LBA = Ladbrokes away win odds\n",
    "- PSH = Pinnacle home win odds\n",
    "- PSD = Pinnacle draw odds\n",
    "- PSA = Pinnacle away win odds\n",
    "- VCH = VC Bet home win odds\n",
    "- VCD = VC Bet draw odds\n",
    "- VCA = VC Bet away win odds\n",
    "- WHH = William Hill home win odds\n",
    "- WHD = William Hill draw odds\n",
    "- WHA = William Hill away win odds\n",
    "- PSCH = Unknown bookie home win odds\n",
    "- PSCD = Unknown bookie draw odds\n",
    "- PSCA = Unknown bookie away win odds\n",
    "\n",
    "\n",
    "\n",
    "- Bb1X2 = Number of BetBrain bookmakers used to calculate match odds averages and maximums\n",
    "- BbMxH = Betbrain maximum home win odds\n",
    "- BbAvH = Betbrain average home win odds\n",
    "- BbMxD = Betbrain maximum draw odds\n",
    "- BbAvD = Betbrain average draw win odds\n",
    "- BbMxA = Betbrain maximum away win odds\n",
    "- BbAvA = Betbrain average away win odds\n",
    "\n",
    "goals betting odds:\n",
    "\n",
    "- BbOU = Number of BetBrain bookmakers used to calculate over/under 2.5 goals (total goals) averages and maximums\n",
    "- BbMx>2.5 = Betbrain maximum over 2.5 goals\n",
    "- BbAv>2.5 = Betbrain average over 2.5 goals\n",
    "- BbMx<2.5 = Betbrain maximum under 2.5 goals\n",
    "- BbAv<2.5 = Betbrain average under 2.5 goals\n",
    "\n",
    "Asian handicap betting odds:\n",
    "\n",
    "- BbAH = Number of BetBrain bookmakers used to Asian handicap averages and maximums\n",
    "- BbAHh = Betbrain size of handicap (home team)\n",
    "- BbMxAHH = Betbrain maximum Asian handicap home team odds\n",
    "- BbAvAHH = Betbrain average Asian handicap home team odds\n",
    "- BbMxAHA = Betbrain maximum Asian handicap away team odds\n",
    "- BbAvAHA = Betbrain average Asian handicap away team odds"
   ]
  },
  {
   "cell_type": "code",
   "execution_count": 8,
   "metadata": {},
   "outputs": [
    {
     "data": {
      "text/html": [
       "<div>\n",
       "<style scoped>\n",
       "    .dataframe tbody tr th:only-of-type {\n",
       "        vertical-align: middle;\n",
       "    }\n",
       "\n",
       "    .dataframe tbody tr th {\n",
       "        vertical-align: top;\n",
       "    }\n",
       "\n",
       "    .dataframe thead th {\n",
       "        text-align: right;\n",
       "    }\n",
       "</style>\n",
       "<table border=\"1\" class=\"dataframe\">\n",
       "  <thead>\n",
       "    <tr style=\"text-align: right;\">\n",
       "      <th></th>\n",
       "      <th>FTHG</th>\n",
       "      <th>FTAG</th>\n",
       "      <th>HTHG</th>\n",
       "      <th>HTAG</th>\n",
       "      <th>HS</th>\n",
       "      <th>AS</th>\n",
       "      <th>HST</th>\n",
       "      <th>AST</th>\n",
       "      <th>HF</th>\n",
       "      <th>AF</th>\n",
       "      <th>...</th>\n",
       "      <th>BbAv&lt;2.5</th>\n",
       "      <th>BbAH</th>\n",
       "      <th>BbAHh</th>\n",
       "      <th>BbMxAHH</th>\n",
       "      <th>BbAvAHH</th>\n",
       "      <th>BbMxAHA</th>\n",
       "      <th>BbAvAHA</th>\n",
       "      <th>PSCH</th>\n",
       "      <th>PSCD</th>\n",
       "      <th>PSCA</th>\n",
       "    </tr>\n",
       "  </thead>\n",
       "  <tbody>\n",
       "    <tr>\n",
       "      <th>count</th>\n",
       "      <td>8826.000000</td>\n",
       "      <td>8826.000000</td>\n",
       "      <td>8826.000000</td>\n",
       "      <td>8826.000000</td>\n",
       "      <td>8826.000000</td>\n",
       "      <td>8826.000000</td>\n",
       "      <td>8826.000000</td>\n",
       "      <td>8826.000000</td>\n",
       "      <td>8826.000000</td>\n",
       "      <td>8826.000000</td>\n",
       "      <td>...</td>\n",
       "      <td>8826.000000</td>\n",
       "      <td>8826.000000</td>\n",
       "      <td>8826.000000</td>\n",
       "      <td>8826.000000</td>\n",
       "      <td>8826.000000</td>\n",
       "      <td>8826.000000</td>\n",
       "      <td>8826.000000</td>\n",
       "      <td>8826.000000</td>\n",
       "      <td>8826.000000</td>\n",
       "      <td>8826.000000</td>\n",
       "    </tr>\n",
       "    <tr>\n",
       "      <th>mean</th>\n",
       "      <td>1.459551</td>\n",
       "      <td>1.164287</td>\n",
       "      <td>0.635962</td>\n",
       "      <td>0.505665</td>\n",
       "      <td>13.287673</td>\n",
       "      <td>10.803875</td>\n",
       "      <td>5.022774</td>\n",
       "      <td>4.096760</td>\n",
       "      <td>10.737933</td>\n",
       "      <td>11.376388</td>\n",
       "      <td>...</td>\n",
       "      <td>1.879688</td>\n",
       "      <td>22.306934</td>\n",
       "      <td>-0.276569</td>\n",
       "      <td>1.994662</td>\n",
       "      <td>1.931123</td>\n",
       "      <td>1.986235</td>\n",
       "      <td>1.923235</td>\n",
       "      <td>2.582182</td>\n",
       "      <td>3.790343</td>\n",
       "      <td>4.071720</td>\n",
       "    </tr>\n",
       "    <tr>\n",
       "      <th>std</th>\n",
       "      <td>1.235640</td>\n",
       "      <td>1.103062</td>\n",
       "      <td>0.805459</td>\n",
       "      <td>0.710122</td>\n",
       "      <td>5.064777</td>\n",
       "      <td>4.429869</td>\n",
       "      <td>2.737846</td>\n",
       "      <td>2.368858</td>\n",
       "      <td>3.480823</td>\n",
       "      <td>3.637383</td>\n",
       "      <td>...</td>\n",
       "      <td>0.228336</td>\n",
       "      <td>4.808532</td>\n",
       "      <td>0.570114</td>\n",
       "      <td>0.145208</td>\n",
       "      <td>0.134879</td>\n",
       "      <td>0.144453</td>\n",
       "      <td>0.133813</td>\n",
       "      <td>1.217281</td>\n",
       "      <td>0.804906</td>\n",
       "      <td>2.603657</td>\n",
       "    </tr>\n",
       "    <tr>\n",
       "      <th>min</th>\n",
       "      <td>0.000000</td>\n",
       "      <td>0.000000</td>\n",
       "      <td>0.000000</td>\n",
       "      <td>0.000000</td>\n",
       "      <td>1.000000</td>\n",
       "      <td>0.000000</td>\n",
       "      <td>0.000000</td>\n",
       "      <td>0.000000</td>\n",
       "      <td>0.000000</td>\n",
       "      <td>0.000000</td>\n",
       "      <td>...</td>\n",
       "      <td>1.400000</td>\n",
       "      <td>9.000000</td>\n",
       "      <td>-2.750000</td>\n",
       "      <td>1.600000</td>\n",
       "      <td>1.520000</td>\n",
       "      <td>1.580000</td>\n",
       "      <td>1.540000</td>\n",
       "      <td>1.080000</td>\n",
       "      <td>2.820000</td>\n",
       "      <td>1.160000</td>\n",
       "    </tr>\n",
       "    <tr>\n",
       "      <th>25%</th>\n",
       "      <td>1.000000</td>\n",
       "      <td>0.000000</td>\n",
       "      <td>0.000000</td>\n",
       "      <td>0.000000</td>\n",
       "      <td>10.000000</td>\n",
       "      <td>8.000000</td>\n",
       "      <td>3.000000</td>\n",
       "      <td>2.000000</td>\n",
       "      <td>8.000000</td>\n",
       "      <td>9.000000</td>\n",
       "      <td>...</td>\n",
       "      <td>1.730000</td>\n",
       "      <td>18.000000</td>\n",
       "      <td>-0.500000</td>\n",
       "      <td>1.890000</td>\n",
       "      <td>1.830000</td>\n",
       "      <td>1.880000</td>\n",
       "      <td>1.830000</td>\n",
       "      <td>1.870000</td>\n",
       "      <td>3.400000</td>\n",
       "      <td>2.640000</td>\n",
       "    </tr>\n",
       "    <tr>\n",
       "      <th>50%</th>\n",
       "      <td>1.000000</td>\n",
       "      <td>1.000000</td>\n",
       "      <td>0.000000</td>\n",
       "      <td>0.000000</td>\n",
       "      <td>13.000000</td>\n",
       "      <td>10.000000</td>\n",
       "      <td>5.000000</td>\n",
       "      <td>4.000000</td>\n",
       "      <td>11.000000</td>\n",
       "      <td>11.000000</td>\n",
       "      <td>...</td>\n",
       "      <td>1.840000</td>\n",
       "      <td>22.000000</td>\n",
       "      <td>-0.250000</td>\n",
       "      <td>1.990000</td>\n",
       "      <td>1.920000</td>\n",
       "      <td>1.980000</td>\n",
       "      <td>1.920000</td>\n",
       "      <td>2.290000</td>\n",
       "      <td>3.560000</td>\n",
       "      <td>3.375000</td>\n",
       "    </tr>\n",
       "    <tr>\n",
       "      <th>75%</th>\n",
       "      <td>2.000000</td>\n",
       "      <td>2.000000</td>\n",
       "      <td>1.000000</td>\n",
       "      <td>1.000000</td>\n",
       "      <td>16.000000</td>\n",
       "      <td>13.000000</td>\n",
       "      <td>7.000000</td>\n",
       "      <td>5.000000</td>\n",
       "      <td>13.000000</td>\n",
       "      <td>14.000000</td>\n",
       "      <td>...</td>\n",
       "      <td>1.980000</td>\n",
       "      <td>26.000000</td>\n",
       "      <td>0.000000</td>\n",
       "      <td>2.090000</td>\n",
       "      <td>2.020000</td>\n",
       "      <td>2.080000</td>\n",
       "      <td>2.010000</td>\n",
       "      <td>2.870000</td>\n",
       "      <td>3.850000</td>\n",
       "      <td>4.550000</td>\n",
       "    </tr>\n",
       "    <tr>\n",
       "      <th>max</th>\n",
       "      <td>8.000000</td>\n",
       "      <td>8.000000</td>\n",
       "      <td>6.000000</td>\n",
       "      <td>4.000000</td>\n",
       "      <td>43.000000</td>\n",
       "      <td>35.000000</td>\n",
       "      <td>20.000000</td>\n",
       "      <td>20.000000</td>\n",
       "      <td>26.000000</td>\n",
       "      <td>26.000000</td>\n",
       "      <td>...</td>\n",
       "      <td>4.070000</td>\n",
       "      <td>37.000000</td>\n",
       "      <td>2.000000</td>\n",
       "      <td>2.690000</td>\n",
       "      <td>2.500000</td>\n",
       "      <td>2.800000</td>\n",
       "      <td>2.690000</td>\n",
       "      <td>18.000000</td>\n",
       "      <td>15.000000</td>\n",
       "      <td>30.000000</td>\n",
       "    </tr>\n",
       "  </tbody>\n",
       "</table>\n",
       "<p>8 rows × 58 columns</p>\n",
       "</div>"
      ],
      "text/plain": [
       "              FTHG         FTAG         HTHG         HTAG           HS  \\\n",
       "count  8826.000000  8826.000000  8826.000000  8826.000000  8826.000000   \n",
       "mean      1.459551     1.164287     0.635962     0.505665    13.287673   \n",
       "std       1.235640     1.103062     0.805459     0.710122     5.064777   \n",
       "min       0.000000     0.000000     0.000000     0.000000     1.000000   \n",
       "25%       1.000000     0.000000     0.000000     0.000000    10.000000   \n",
       "50%       1.000000     1.000000     0.000000     0.000000    13.000000   \n",
       "75%       2.000000     2.000000     1.000000     1.000000    16.000000   \n",
       "max       8.000000     8.000000     6.000000     4.000000    43.000000   \n",
       "\n",
       "                AS          HST          AST           HF           AF  ...  \\\n",
       "count  8826.000000  8826.000000  8826.000000  8826.000000  8826.000000  ...   \n",
       "mean     10.803875     5.022774     4.096760    10.737933    11.376388  ...   \n",
       "std       4.429869     2.737846     2.368858     3.480823     3.637383  ...   \n",
       "min       0.000000     0.000000     0.000000     0.000000     0.000000  ...   \n",
       "25%       8.000000     3.000000     2.000000     8.000000     9.000000  ...   \n",
       "50%      10.000000     5.000000     4.000000    11.000000    11.000000  ...   \n",
       "75%      13.000000     7.000000     5.000000    13.000000    14.000000  ...   \n",
       "max      35.000000    20.000000    20.000000    26.000000    26.000000  ...   \n",
       "\n",
       "          BbAv<2.5         BbAH        BbAHh      BbMxAHH      BbAvAHH  \\\n",
       "count  8826.000000  8826.000000  8826.000000  8826.000000  8826.000000   \n",
       "mean      1.879688    22.306934    -0.276569     1.994662     1.931123   \n",
       "std       0.228336     4.808532     0.570114     0.145208     0.134879   \n",
       "min       1.400000     9.000000    -2.750000     1.600000     1.520000   \n",
       "25%       1.730000    18.000000    -0.500000     1.890000     1.830000   \n",
       "50%       1.840000    22.000000    -0.250000     1.990000     1.920000   \n",
       "75%       1.980000    26.000000     0.000000     2.090000     2.020000   \n",
       "max       4.070000    37.000000     2.000000     2.690000     2.500000   \n",
       "\n",
       "           BbMxAHA      BbAvAHA         PSCH         PSCD         PSCA  \n",
       "count  8826.000000  8826.000000  8826.000000  8826.000000  8826.000000  \n",
       "mean      1.986235     1.923235     2.582182     3.790343     4.071720  \n",
       "std       0.144453     0.133813     1.217281     0.804906     2.603657  \n",
       "min       1.580000     1.540000     1.080000     2.820000     1.160000  \n",
       "25%       1.880000     1.830000     1.870000     3.400000     2.640000  \n",
       "50%       1.980000     1.920000     2.290000     3.560000     3.375000  \n",
       "75%       2.080000     2.010000     2.870000     3.850000     4.550000  \n",
       "max       2.800000     2.690000    18.000000    15.000000    30.000000  \n",
       "\n",
       "[8 rows x 58 columns]"
      ]
     },
     "execution_count": 8,
     "metadata": {},
     "output_type": "execute_result"
    }
   ],
   "source": [
    "data.describe()"
   ]
  },
  {
   "cell_type": "code",
   "execution_count": 9,
   "metadata": {},
   "outputs": [
    {
     "data": {
      "text/html": [
       "<div>\n",
       "<style scoped>\n",
       "    .dataframe tbody tr th:only-of-type {\n",
       "        vertical-align: middle;\n",
       "    }\n",
       "\n",
       "    .dataframe tbody tr th {\n",
       "        vertical-align: top;\n",
       "    }\n",
       "\n",
       "    .dataframe thead th {\n",
       "        text-align: right;\n",
       "    }\n",
       "</style>\n",
       "<table border=\"1\" class=\"dataframe\">\n",
       "  <thead>\n",
       "    <tr style=\"text-align: right;\">\n",
       "      <th></th>\n",
       "      <th>Div</th>\n",
       "      <th>HomeTeam</th>\n",
       "      <th>AwayTeam</th>\n",
       "      <th>FTR</th>\n",
       "      <th>HTR</th>\n",
       "    </tr>\n",
       "  </thead>\n",
       "  <tbody>\n",
       "    <tr>\n",
       "      <th>count</th>\n",
       "      <td>8826</td>\n",
       "      <td>8826</td>\n",
       "      <td>8826</td>\n",
       "      <td>8826</td>\n",
       "      <td>8826</td>\n",
       "    </tr>\n",
       "    <tr>\n",
       "      <th>unique</th>\n",
       "      <td>3</td>\n",
       "      <td>82</td>\n",
       "      <td>82</td>\n",
       "      <td>3</td>\n",
       "      <td>3</td>\n",
       "    </tr>\n",
       "    <tr>\n",
       "      <th>top</th>\n",
       "      <td>E1</td>\n",
       "      <td>Sheffield Weds</td>\n",
       "      <td>Derby</td>\n",
       "      <td>H</td>\n",
       "      <td>D</td>\n",
       "    </tr>\n",
       "    <tr>\n",
       "      <th>freq</th>\n",
       "      <td>3295</td>\n",
       "      <td>138</td>\n",
       "      <td>138</td>\n",
       "      <td>3838</td>\n",
       "      <td>3714</td>\n",
       "    </tr>\n",
       "  </tbody>\n",
       "</table>\n",
       "</div>"
      ],
      "text/plain": [
       "         Div        HomeTeam AwayTeam   FTR   HTR\n",
       "count   8826            8826     8826  8826  8826\n",
       "unique     3              82       82     3     3\n",
       "top       E1  Sheffield Weds    Derby     H     D\n",
       "freq    3295             138      138  3838  3714"
      ]
     },
     "execution_count": 9,
     "metadata": {},
     "output_type": "execute_result"
    }
   ],
   "source": [
    "data.describe(include=['O'])"
   ]
  },
  {
   "cell_type": "code",
   "execution_count": 10,
   "metadata": {},
   "outputs": [
    {
     "data": {
      "image/png": "[encoded data removed]",
      "text/plain": [
       "<Figure size 432x288 with 1 Axes>"
      ]
     },
     "metadata": {},
     "output_type": "display_data"
    }
   ],
   "source": [
    "y = data['FTR']\n",
    "plt.pie(y.value_counts(),autopct='%1.1f%%')\n",
    "plt.legend(['Home','Away','Draw'])\n",
    "plt.title('Class repartition')\n",
    "plt.show()"
   ]
  },
  {
   "cell_type": "markdown",
   "metadata": {},
   "source": [
    "## Feature Engineering"
   ]
  },
  {
   "cell_type": "markdown",
   "metadata": {},
   "source": [
    "First, we know that the probability $P$ of the different outcomes (A, H, D) implied by the odds $\\pi$ of the bookmaker will be proportional in first approximation to the inverse of the odds:\n",
    "$$ \\pi = \\frac{1}{P} - \\alpha\\quad\\Leftrightarrow P=\\frac{1}{\\pi+\\alpha}\\simeq\\frac{1}{\\pi}+\\frac{\\alpha}{\\pi^2}+O(\\alpha^2) $$\n",
    "Hence the first feature engineering simply consist in inverting the odds in order to capture this non linearity.\n",
    "\n",
    "Then, based on the same logic, we create three additional features (one for each outcome). Indeed, we know that the  more $1/\\pi$ is small, the more the approximation $P\\simeq\\frac{1}{\\pi}$ will be correct due to the vanishing second term. Hence we create 3 additional column that contains the smallest inverse odd $1/\\pi$ for each outcome among all the odds offered by the bookmaker for each game.\n",
    "\n",
    "As far as the match statistics are concerned, at time $t$ we can only use information available at time $t$, that is why we use past data to create new features for each team for each match using past data. These are constructed using exponentially moving average in order to capture a form of momentum in the statistic. This way, we put more weight on recent data, as we suppose their are more relevant. This kind of momentum is defined for each team individually. \n",
    "\n",
    "The last feature added, reflects the momentum in the history of results of confrontations between two teams. Contrary to the mometum defined just before that is specific to each team, here it is defined for each couple of team. It is a exponentially moving average on the results of past confrontation between two given teams."
   ]
  },
  {
   "cell_type": "code",
   "execution_count": 11,
   "metadata": {},
   "outputs": [],
   "source": [
    "\n",
    "odds_columns = ['B365H', 'B365D', 'B365A', 'BWH', 'BWD', 'BWA', 'IWH', 'IWD', 'IWA', 'LBH', 'LBD', 'LBA', 'PSH', 'PSD',\n",
    "                'PSA', 'WHH', 'WHD', 'WHA', 'VCH', 'VCD', 'VCA', 'PSCH', 'PSCD', 'PSCA']\n",
    "goal_odds_columns = ['BbOU', 'BbMx>2.5', 'BbAv>2.5', 'BbMx<2.5','BbAv<2.5']\n",
    "Asian_odds_columns = ['BbAH', 'BbAHh', 'BbMxAHH', 'BbAvAHH', 'BbMxAHA', 'BbAvAHA']\n",
    "Stat_columns = ['FTHG', 'FTAG', 'HTHG', 'HTAG', 'HS', 'AS','HST', 'AST', 'HF', 'AF', 'HC', 'AC', 'HY', 'AY', 'HR', 'AR']\n",
    "\n",
    "\n",
    "# Take the inverse of odds \\equiv implied prob\n",
    "data[odds_columns] = data[odds_columns].apply(lambda x:1./x).replace(np.inf,np.nan)\n",
    "# remove infinite\n",
    "data.dropna(axis=0, how='any',inplace=True)\n",
    "# Reset again index in order to avoid hole\n",
    "data.reset_index(drop=True,inplace=True)\n",
    "\n",
    "# add implied proba min\n",
    "H_odds_columns = [column for column in odds_columns if column[-1]=='H']\n",
    "D_odds_columns = [column for column in odds_columns if column[-1]=='D']\n",
    "A_odds_columns = [column for column in odds_columns if column[-1]=='A']\n",
    "\n",
    "\n",
    "data['H_proba_min'] = data[H_odds_columns].min(axis=1)\n",
    "data['D_proba_min'] = data[D_odds_columns].min(axis=1)\n",
    "data['A_proba_min'] = data[A_odds_columns].min(axis=1)\n",
    "\n",
    "data.drop(['Bb1X2', 'BbMxH', 'BbAvH', 'BbMxD', 'BbAvD','BbMxA', 'BbAvA'], axis=1, inplace=True)\n",
    "\n",
    "\n",
    "\n",
    "#Momentum in stat and victory\n",
    "\n",
    "data_mom = data[['Date','HomeTeam','AwayTeam']+Stat_columns]\n",
    "\n",
    "data_victory = data[['Date','HomeTeam','AwayTeam','FTR']]\n",
    "\n",
    "Home_columns = ['FTHG', 'HTHG', 'HS', 'HST', 'HF', 'HC', 'HY', 'HR']\n",
    "Away_columns = ['FTAG', 'HTAG', 'AS', 'AST', 'AF', 'AC', 'AY', 'AR']\n",
    "\n",
    "def Momentum(data_past,team):\n",
    "    new_columns = ['Date', 'FTG', 'HTG', 'S', 'ST', 'F', 'C', 'Y', 'R']\n",
    "    Home_columns = ['FTHG', 'HTHG', 'HS', 'HST', 'HF', 'HC', 'HY', 'HR']\n",
    "    Away_columns = ['FTAG', 'HTAG', 'AS', 'AST', 'AF', 'AC', 'AY', 'AR']\n",
    "    data_past_H = data_past[data_past['HomeTeam'] == team][['Date']+Home_columns]\n",
    "    data_past_H.columns = new_columns\n",
    "    data_past_A = data_past[data_past['AwayTeam'] == team][['Date']+Away_columns]\n",
    "    data_past_A.columns = new_columns\n",
    "    mom_df = pd.merge_ordered(data_past_H,data_past_A).ewm(span=10).mean()\n",
    "    if mom_df.empty:\n",
    "        mom_df.loc[0,mom_df.columns] = np.nan\n",
    "    match_nbr = data_past_H.shape[0] + data_past_A.shape[0]\n",
    "    return mom_df.iloc[-1,:], match_nbr\n",
    "\n",
    "\n",
    "def VictoryHistory(data_victory_past,team1,team2):\n",
    "    victories = list()\n",
    "    draws = list()\n",
    "\n",
    "    victories += (data_victory_past[(data_victory_past['HomeTeam'] == team1)\n",
    "                                        & (data_victory_past['AwayTeam'] == team2)]['FTR']=='H').tolist()\n",
    "    draws += ((data_victory_past[(data_victory_past['HomeTeam'] == team1)\n",
    "                                        & (data_victory_past['AwayTeam'] == team2)]['FTR']=='D').tolist())\n",
    "\n",
    "    victories += ((data_victory_past[(data_victory_past['HomeTeam'] == team2)\n",
    "                                        & (data_victory_past['AwayTeam'] == team1)]['FTR']=='A').tolist())\n",
    "    draws += ((data_victory_past[(data_victory_past['HomeTeam'] == team2)\n",
    "                                        & (data_victory_past['AwayTeam'] == team1)]['FTR']=='D').tolist())\n",
    "    confrontation_nbr = len(victories)\n",
    "\n",
    "    if confrontation_nbr == 0:\n",
    "        victory_mom = 0\n",
    "        draw_mom =0\n",
    "    else:\n",
    "        victory_mom = pd.Series(victories).ewm(5).mean().iloc[-1]\n",
    "        draw_mom = pd.Series(draws).ewm(5).mean().iloc[-1]\n",
    "    return victory_mom,draw_mom,confrontation_nbr\n",
    "\n",
    "data[Stat_columns] = np.nan\n",
    "data['match_nbr_home'] = np.nan\n",
    "data['match_nbr_away'] = np.nan\n",
    "data['H_vict_mom'] = np.nan\n",
    "data['D_mom'] = np.nan\n",
    "data['confrontation_nbr'] = np.nan\n",
    "\n",
    "for i in range(1,data.shape[0]):\n",
    "    data_mom_past = data_mom.iloc[:i]\n",
    "    momH, match_nbr_home = Momentum(data_mom_past,data['HomeTeam'][i])\n",
    "    data.loc[i,Home_columns] = momH.values\n",
    "    data.loc[i, 'match_nbr_home'] = match_nbr_home\n",
    "\n",
    "    momA, match_nbr_Away = Momentum(data_mom_past, data['AwayTeam'][i])\n",
    "    data.loc[i, Away_columns] = momA.values\n",
    "    data.loc[i, 'match_nbr_away'] = match_nbr_Away\n",
    "\n",
    "    data_victory_past = data_victory.iloc[:i]\n",
    "    H_vict_mom,D_mom,confrontation_nbr = VictoryHistory(data_victory_past,data['HomeTeam'][i],data['AwayTeam'][i])\n",
    "    data.loc[i, 'H_vict_mom'] = H_vict_mom\n",
    "    data.loc[i, 'D_mom'] = D_mom\n",
    "    data.loc[i, 'confrontation_nbr'] = confrontation_nbr\n",
    "\n",
    "# Drop Nan that comes from lack of data in momentum\n",
    "data.dropna(axis=0, how='any',inplace=True)\n",
    "\n",
    "\n",
    "y = data['FTR']\n",
    "X = data.drop(columns=['Div','Date','HomeTeam','AwayTeam','FTR','HTR'],axis=1)"
   ]
  },
  {
   "cell_type": "markdown",
   "metadata": {},
   "source": [
    "## Scaling"
   ]
  },
  {
   "cell_type": "code",
   "execution_count": 12,
   "metadata": {},
   "outputs": [],
   "source": [
    "from sklearn.preprocessing import MinMaxScaler\n",
    "scaler = MinMaxScaler()\n",
    "X = pd.DataFrame(scaler.fit_transform(X),columns=X.columns)"
   ]
  },
  {
   "cell_type": "markdown",
   "metadata": {},
   "source": [
    "## Feature importance"
   ]
  },
  {
   "cell_type": "code",
   "execution_count": 13,
   "metadata": {},
   "outputs": [
    {
     "data": {
      "image/png": "[encoded data removed]",
      "text/plain": [
       "<Figure size 864x648 with 1 Axes>"
      ]
     },
     "metadata": {
      "needs_background": "light"
     },
     "output_type": "display_data"
    }
   ],
   "source": [
    "from sklearn.ensemble import ExtraTreesClassifier\n",
    "model = ExtraTreesClassifier(n_estimators=50)\n",
    "model.fit(X, y)\n",
    "feat_importances = pd.Series(model.feature_importances_, index=X.columns)\n",
    "feat_importances = feat_importances.sort_values()\n",
    "feat_importances.plot(kind='barh',legend=False,figsize=(12,9))\n",
    "plt.show()"
   ]
  },
  {
   "cell_type": "markdown",
   "metadata": {},
   "source": [
    "## PCA"
   ]
  },
  {
   "cell_type": "markdown",
   "metadata": {},
   "source": [
    "After the PCA it seems that not much additional information is added after the 30th component so we limit ourself to the use of the thirty first components in our models in order to try to reduce overfitting."
   ]
  },
  {
   "cell_type": "code",
   "execution_count": 14,
   "metadata": {},
   "outputs": [
    {
     "data": {
      "image/png": "[encoded data removed]",
      "text/plain": [
       "<Figure size 720x360 with 1 Axes>"
      ]
     },
     "metadata": {
      "needs_background": "light"
     },
     "output_type": "display_data"
    },
    {
     "data": {
      "text/plain": [
       "(8774, 30)"
      ]
     },
     "execution_count": 14,
     "metadata": {},
     "output_type": "execute_result"
    }
   ],
   "source": [
    "from sklearn.decomposition import PCA\n",
    "pca = PCA()\n",
    "pca.fit(X)\n",
    "X = pca.transform(X)\n",
    "Cum_explained_Var = np.cumsum(pca.explained_variance_ratio_)\n",
    "plt.figure(figsize=(10, 5))\n",
    "ax = sns.scatterplot(data=Cum_explained_Var)\n",
    "ax.set(xlabel='Dimensions', ylabel='Explained Variance Ratio')\n",
    "plt.title(\"PCA-transformed cumulated variance explained\")\n",
    "plt.show()\n",
    "# from the 30th component, we don't really add information\n",
    "X = X[:,:30]\n",
    "X.shape"
   ]
  },
  {
   "cell_type": "markdown",
   "metadata": {},
   "source": [
    "# Classification"
   ]
  },
  {
   "cell_type": "markdown",
   "metadata": {},
   "source": [
    "We will test 5 models that supports multiclass classification:\n",
    "* K-Nearest Neighbors\n",
    "* Logistic regression\n",
    "* Support Vector Machine (SVM)\n",
    "* Random forest\n",
    "* Naïve Bayes"
   ]
  },
  {
   "cell_type": "markdown",
   "metadata": {},
   "source": [
    "## Model Construction"
   ]
  },
  {
   "cell_type": "code",
   "execution_count": 15,
   "metadata": {},
   "outputs": [],
   "source": [
    "from sklearn.model_selection import train_test_split, GridSearchCV\n",
    "from sklearn.neighbors import KNeighborsClassifier\n",
    "from sklearn.linear_model import LogisticRegression\n",
    "from sklearn.svm import SVC\n",
    "from sklearn.ensemble import RandomForestClassifier\n",
    "from sklearn.naive_bayes import GaussianNB\n",
    "from sklearn.metrics import make_scorer, plot_confusion_matrix, classification_report, accuracy_score, f1_score\n",
    "\n",
    "X_train, X_test, y_train, y_test = train_test_split(X, y, stratify=y,test_size=0.25)\n",
    "\n",
    "classifier_names = ['clf_KNN','clf_logistic', 'clf_SVC', 'clf_RF', 'clf_GNB']\n",
    "\n",
    "clf_KNN = KNeighborsClassifier()\n",
    "clf_logistic = LogisticRegression(multi_class = \"ovr\", class_weight = 'balanced')\n",
    "clf_SVC = SVC(class_weight = 'balanced',probability=True)\n",
    "clf_RF = RandomForestClassifier(class_weight = 'balanced')\n",
    "clf_GNB = GaussianNB()\n",
    "\n",
    "clf_list = [clf_KNN, clf_logistic, clf_SVC, clf_RF, clf_GNB]\n",
    "\n",
    "param_KNN = {'n_neighbors': [38]}\n",
    "param_logistic = {'C': [50]}\n",
    "param_SVC = {'C': [0.75]}\n",
    "param_RF = {'n_estimators':[80,90,100],'max_depth':[8,10,12], 'max_features':['auto','log2'],'min_samples_split':[2]}\n",
    "param_GNB = {}\n",
    "\n",
    "param_list = [param_KNN, param_logistic, param_SVC, param_RF, param_GNB]\n",
    "\n",
    "CrossVal_dict = {\n",
    "    clf_name:{'Classifier':clf,\n",
    "              'Hyperparameter':param\n",
    "             } \n",
    "    for clf_name, clf, param in zip(classifier_names, clf_list, param_list)\n",
    "}"
   ]
  },
  {
   "cell_type": "code",
   "execution_count": 16,
   "metadata": {},
   "outputs": [
    {
     "data": {
      "text/plain": [
       "array([1.e+01, 1.e+02, 1.e+03, 1.e+04, 1.e+05])"
      ]
     },
     "execution_count": 16,
     "metadata": {},
     "output_type": "execute_result"
    }
   ],
   "source": [
    "np.logspace(1,5,5)"
   ]
  },
  {
   "cell_type": "markdown",
   "metadata": {},
   "source": [
    "## Model selection"
   ]
  },
  {
   "cell_type": "markdown",
   "metadata": {},
   "source": [
    "#### Hyperparameters\n",
    "Most of our model contains hyperparameter that must be tuned using cross-validation in order to reduce the overfitting. These hyperparameters are:\n",
    "* K-Nearest Neighbors hyperparameters: \n",
    "  - number of neighbors used in the KNN algorithm: the smaller this number is, the more the model is prone to           overfitting\n",
    "* Logistic regression hyperparameters:\n",
    "  - $\\lambda\\equiv 1/C$: coefficient of the L2 regularization term: $L_{logL2} = L_{log}+\\lambda|w|_2^2$\n",
    "* Support Vector Machine (SVM) hyperparameters:\n",
    "  - $\\lambda\\equiv 1/C$: coefficient of the L2 regularization term: $L_{svmL2} = L_{svm}+\\lambda|w|_2^2$\n",
    "* Random forest hyperparameters:\n",
    "  - n_estimators: Number of trees in the forest\n",
    "  - max_depth: maximum depth of the tree (used to prune the tree to avoid overfitting)\n",
    "  - max_features: the number of features to consider when looking for the best split:\n",
    "    - If “auto”, then max_features=sqrt(n_features)\n",
    "    - If “log2”, then max_features=log2(n_features)\n",
    "  - min_samples_split: the minimum number of samples required to split an internal node\n",
    "\n",
    "\n",
    "We could have considered using L1 regularization instead of L2, to encourage sparsity."
   ]
  },
  {
   "cell_type": "markdown",
   "metadata": {},
   "source": [
    "#### Metrics\n",
    "The metrics with respect to which the hyperparameters are tuned are described below:\n",
    "* The F1 score suited for unbalanced classes:$$F1 = 2 \\times \\frac{Precision \\times Recall}{Precision + Recall}$$\n",
    "where $Precision = \\frac{TP}{TP + FP}$ and $Recall = \\frac{TP}{TP+FN}$\n",
    "* The rank probability score specially designed for this classification problem:\n",
    "$$ R P S=\\frac{1}{2} \\sum_{i=1}^{2}\\left(\\sum_{j=1}^{i}\\left(p_{j}-e_{j}\\right)\\right)^{2}$$\n",
    "where $e_j$ takes the value 1 when the outcome correspond to the $j^{th}$ category in $\\{A,D,H\\}$\n",
    "\n",
    "The F1 score should be maximised, while the RPS should be minimized. Because sklearn algorithms for cross validation are designed to maximize the score function, a minus sign will be add in front of the RPS. Therefore the best PRS will be the smallest one in absolute value or the largest one if we consider the minus sign."
   ]
  },
  {
   "cell_type": "code",
   "execution_count": 17,
   "metadata": {},
   "outputs": [],
   "source": [
    "def custom_score_fct(y_true,y_pred):\n",
    "    '''\n",
    "    Rank Probability score\n",
    "    :param y_true: (n_sample,) vector of true class A, D or H\n",
    "    :param y_pred: (n_sample,n_class) matrix of proba of the respective class A, D, or H\n",
    "    :return: score\n",
    "    '''\n",
    "    n_sample = y_pred.shape[0]\n",
    "    e1 = np.ones(n_sample) * (y_true == 'A')\n",
    "    e2 = np.ones(n_sample) * (y_true == 'D')\n",
    "    p1 = y_pred[:,0]\n",
    "    p2 = y_pred[:, 1]\n",
    "    def RPS(e1,e2,p1,p2):\n",
    "        return 0.5 * ((p1-e1)**2 + (p1+p2-e1-e2)**2)\n",
    "    return np.mean(list(map(RPS,e1,e2,p1,p2)))\n",
    "\n",
    "\n",
    "RPS_score = make_scorer(custom_score_fct,greater_is_better=False,needs_proba=True)\n",
    "\n",
    "\n",
    "def ModelSelection(CrossVal_dict,score_fct = 'f1_weighted'):\n",
    "    Best_Classifiers_dict = {}\n",
    "\n",
    "    for clf in CrossVal_dict.keys():\n",
    "\n",
    "        CV = GridSearchCV(\n",
    "            CrossVal_dict[clf]['Classifier'],\n",
    "            scoring = score_fct,\n",
    "            param_grid = CrossVal_dict[clf]['Hyperparameter'],\n",
    "            cv = 5\n",
    "        )\n",
    "        CV = CV.fit(X_train, y_train)\n",
    "        Best_Classifiers_dict[clf] = {'Classifier': CV.best_estimator_, 'Hyperparameter': CV.best_params_}\n",
    "\n",
    "    return Best_Classifiers_dict"
   ]
  },
  {
   "cell_type": "markdown",
   "metadata": {},
   "source": [
    "## Test set result"
   ]
  },
  {
   "cell_type": "code",
   "execution_count": 18,
   "metadata": {},
   "outputs": [],
   "source": [
    "# This function logs the F1_score and RPS_score for a given set of hyperparameters and for a given algorithm\n",
    "# Output: enriched logging dataframe\n",
    "\n",
    "def dataLogger(logdf: pd.DataFrame(), clf, hyperparameter, f1_score, RPS_score,logdf_col_name):\n",
    "    \n",
    "    logdf = logdf.append(\n",
    "        pd.Series(\n",
    "            data = [clf, hyperparameter, f1_score, RPS_score], \n",
    "            index = logdf_col_name\n",
    "        )\n",
    "        , ignore_index = True\n",
    "    )\n",
    "    \n",
    "    display('in dataLogger: ', logdf)\n",
    "    return logdf"
   ]
  },
  {
   "cell_type": "code",
   "execution_count": 19,
   "metadata": {},
   "outputs": [],
   "source": [
    "def DisplayResults(Best_Classifiers_dict,\n",
    "                   X_test,\n",
    "                   y_test,\n",
    "                   logdf: pd.DataFrame(),\n",
    "                   logdf_col_name,\n",
    "                  ):\n",
    "    Score_Comparison_df = pd.DataFrame(index=Best_Classifiers_dict.keys(),columns=['F1_weighted_Score','RPS'])\n",
    "    for clf in Best_Classifiers_dict.keys():\n",
    "        print('###############################################################')\n",
    "        plot_confusion_matrix(Best_Classifiers_dict[clf]['Classifier'], X_test, y_test, cmap=\"YlGnBu\",\n",
    "                              values_format='.0f')\n",
    "        plt.title('Confusion matrix ' + clf)\n",
    "        plt.savefig('Confusion matrix ' + clf + '.png')\n",
    "        plt.show()\n",
    "        print('Classification report of ', clf)\n",
    "        print(classification_report(y_test, Best_Classifiers_dict[clf]['Classifier'].predict(X_test)))\n",
    "        print('Rank probability score: {:.2f}'.format(\n",
    "            RPS_score(Best_Classifiers_dict[clf]['Classifier'], X_test, y_test)))\n",
    "        print('###############################################################')\n",
    "        Score_Comparison_df.loc[clf, 'F1_weighted_Score'] = f1_score(y_test, Best_Classifiers_dict[clf]['Classifier']\n",
    "                                                                       .predict(X_test),average='weighted')\n",
    "        Score_Comparison_df.loc[clf, 'RPS'] = RPS_score(Best_Classifiers_dict[clf]['Classifier'], X_test, y_test)\n",
    "\n",
    "        logdf = dataLogger(\n",
    "            logdf = logdf, \n",
    "            hyperparameter = CrossVal_dict[clf]['Hyperparameter'],\n",
    "            clf = clf,\n",
    "            f1_score = Score_Comparison_df.loc[clf, 'F1_weighted_Score'],\n",
    "            RPS_score = Score_Comparison_df.loc[clf, 'RPS'],\n",
    "            logdf_col_name = logdf_col_name,\n",
    "        )\n",
    "        \n",
    "    Score_Comparison_df.abs().plot.barh(figsize=(8,6),grid=True)    \n",
    "    return logdf"
   ]
  },
  {
   "cell_type": "markdown",
   "metadata": {},
   "source": [
    "The cross validation (5 folds) for each model is performed on the train set. Then each model with their optimal hyperparameter is tested on the test set. Their score for a variety of metrics are provided for each model as well as their confusion matrix in addition to a comparative bar chart of the F1-score and RPS.\n",
    "\n",
    "We do this using the F1-score for the cross validation and then repeat it using the RPS. Hence we end-up with ten models in total. Five whose hyperparameters have been tuned using a 5-fold cross-validation based on the F1-score and five whose hyperparameters have been tuned using a 5-fold cross-validation based on the Rank probability score."
   ]
  },
  {
   "cell_type": "markdown",
   "metadata": {},
   "source": [
    "### Using F1_score metric"
   ]
  },
  {
   "cell_type": "code",
   "execution_count": 20,
   "metadata": {},
   "outputs": [],
   "source": [
    "Best_Classifiers_dict = ModelSelection(CrossVal_dict)"
   ]
  },
  {
   "cell_type": "code",
   "execution_count": 21,
   "metadata": {},
   "outputs": [
    {
     "data": {
      "text/plain": [
       "{'n_neighbors': 38}"
      ]
     },
     "execution_count": 21,
     "metadata": {},
     "output_type": "execute_result"
    }
   ],
   "source": [
    "Best_Classifiers_dict['clf_KNN']['Hyperparameter']"
   ]
  },
  {
   "cell_type": "code",
   "execution_count": 22,
   "metadata": {},
   "outputs": [
    {
     "data": {
      "text/plain": [
       "{'C': 50}"
      ]
     },
     "execution_count": 22,
     "metadata": {},
     "output_type": "execute_result"
    }
   ],
   "source": [
    "Best_Classifiers_dict['clf_logistic']['Hyperparameter']"
   ]
  },
  {
   "cell_type": "code",
   "execution_count": 23,
   "metadata": {},
   "outputs": [
    {
     "data": {
      "text/plain": [
       "{'C': 0.75}"
      ]
     },
     "execution_count": 23,
     "metadata": {},
     "output_type": "execute_result"
    }
   ],
   "source": [
    "Best_Classifiers_dict['clf_SVC']['Hyperparameter']"
   ]
  },
  {
   "cell_type": "code",
   "execution_count": 24,
   "metadata": {},
   "outputs": [
    {
     "data": {
      "text/plain": [
       "{'max_depth': 8,\n",
       " 'max_features': 'auto',\n",
       " 'min_samples_split': 2,\n",
       " 'n_estimators': 80}"
      ]
     },
     "execution_count": 24,
     "metadata": {},
     "output_type": "execute_result"
    }
   ],
   "source": [
    "Best_Classifiers_dict['clf_RF']['Hyperparameter']"
   ]
  },
  {
   "cell_type": "code",
   "execution_count": 25,
   "metadata": {
    "scrolled": true
   },
   "outputs": [
    {
     "name": "stdout",
     "output_type": "stream",
     "text": [
      "Initializing logdf\n",
      "###############################################################\n"
     ]
    },
    {
     "data": {
      "image/png": "[encoded data removed]",
      "text/plain": [
       "<Figure size 432x288 with 2 Axes>"
      ]
     },
     "metadata": {
      "needs_background": "light"
     },
     "output_type": "display_data"
    },
    {
     "name": "stdout",
     "output_type": "stream",
     "text": [
      "Classification report of  clf_KNN\n",
      "              precision    recall  f1-score   support\n",
      "\n",
      "           A       0.44      0.47      0.45       662\n",
      "           D       0.28      0.11      0.16       580\n",
      "           H       0.50      0.67      0.57       952\n",
      "\n",
      "    accuracy                           0.46      2194\n",
      "   macro avg       0.41      0.42      0.39      2194\n",
      "weighted avg       0.43      0.46      0.43      2194\n",
      "\n",
      "Rank probability score: -0.22\n",
      "###############################################################\n"
     ]
    },
    {
     "data": {
      "text/plain": [
       "'in dataLogger: '"
      ]
     },
     "metadata": {},
     "output_type": "display_data"
    },
    {
     "data": {
      "text/html": [
       "<div>\n",
       "<style scoped>\n",
       "    .dataframe tbody tr th:only-of-type {\n",
       "        vertical-align: middle;\n",
       "    }\n",
       "\n",
       "    .dataframe tbody tr th {\n",
       "        vertical-align: top;\n",
       "    }\n",
       "\n",
       "    .dataframe thead th {\n",
       "        text-align: right;\n",
       "    }\n",
       "</style>\n",
       "<table border=\"1\" class=\"dataframe\">\n",
       "  <thead>\n",
       "    <tr style=\"text-align: right;\">\n",
       "      <th></th>\n",
       "      <th>clf</th>\n",
       "      <th>hyperparameter</th>\n",
       "      <th>F1_score</th>\n",
       "      <th>RPS_score</th>\n",
       "    </tr>\n",
       "  </thead>\n",
       "  <tbody>\n",
       "    <tr>\n",
       "      <th>0</th>\n",
       "      <td>clf_KNN</td>\n",
       "      <td>{'n_neighbors': [38]}</td>\n",
       "      <td>0.427264</td>\n",
       "      <td>-0.215485</td>\n",
       "    </tr>\n",
       "  </tbody>\n",
       "</table>\n",
       "</div>"
      ],
      "text/plain": [
       "       clf         hyperparameter  F1_score  RPS_score\n",
       "0  clf_KNN  {'n_neighbors': [38]}  0.427264  -0.215485"
      ]
     },
     "metadata": {},
     "output_type": "display_data"
    },
    {
     "name": "stdout",
     "output_type": "stream",
     "text": [
      "###############################################################\n"
     ]
    },
    {
     "data": {
      "image/png": "[encoded data removed]",
      "text/plain": [
       "<Figure size 432x288 with 2 Axes>"
      ]
     },
     "metadata": {
      "needs_background": "light"
     },
     "output_type": "display_data"
    },
    {
     "name": "stdout",
     "output_type": "stream",
     "text": [
      "Classification report of  clf_logistic\n",
      "              precision    recall  f1-score   support\n",
      "\n",
      "           A       0.43      0.54      0.48       662\n",
      "           D       0.29      0.25      0.27       580\n",
      "           H       0.58      0.53      0.55       952\n",
      "\n",
      "    accuracy                           0.46      2194\n",
      "   macro avg       0.43      0.44      0.43      2194\n",
      "weighted avg       0.46      0.46      0.45      2194\n",
      "\n",
      "Rank probability score: -0.21\n",
      "###############################################################\n"
     ]
    },
    {
     "data": {
      "text/plain": [
       "'in dataLogger: '"
      ]
     },
     "metadata": {},
     "output_type": "display_data"
    },
    {
     "data": {
      "text/html": [
       "<div>\n",
       "<style scoped>\n",
       "    .dataframe tbody tr th:only-of-type {\n",
       "        vertical-align: middle;\n",
       "    }\n",
       "\n",
       "    .dataframe tbody tr th {\n",
       "        vertical-align: top;\n",
       "    }\n",
       "\n",
       "    .dataframe thead th {\n",
       "        text-align: right;\n",
       "    }\n",
       "</style>\n",
       "<table border=\"1\" class=\"dataframe\">\n",
       "  <thead>\n",
       "    <tr style=\"text-align: right;\">\n",
       "      <th></th>\n",
       "      <th>clf</th>\n",
       "      <th>hyperparameter</th>\n",
       "      <th>F1_score</th>\n",
       "      <th>RPS_score</th>\n",
       "    </tr>\n",
       "  </thead>\n",
       "  <tbody>\n",
       "    <tr>\n",
       "      <th>0</th>\n",
       "      <td>clf_KNN</td>\n",
       "      <td>{'n_neighbors': [38]}</td>\n",
       "      <td>0.427264</td>\n",
       "      <td>-0.215485</td>\n",
       "    </tr>\n",
       "    <tr>\n",
       "      <th>1</th>\n",
       "      <td>clf_logistic</td>\n",
       "      <td>{'C': [50]}</td>\n",
       "      <td>0.453837</td>\n",
       "      <td>-0.214107</td>\n",
       "    </tr>\n",
       "  </tbody>\n",
       "</table>\n",
       "</div>"
      ],
      "text/plain": [
       "            clf         hyperparameter  F1_score  RPS_score\n",
       "0       clf_KNN  {'n_neighbors': [38]}  0.427264  -0.215485\n",
       "1  clf_logistic            {'C': [50]}  0.453837  -0.214107"
      ]
     },
     "metadata": {},
     "output_type": "display_data"
    },
    {
     "name": "stdout",
     "output_type": "stream",
     "text": [
      "###############################################################\n"
     ]
    },
    {
     "data": {
      "image/png": "[encoded data removed]",
      "text/plain": [
       "<Figure size 432x288 with 2 Axes>"
      ]
     },
     "metadata": {
      "needs_background": "light"
     },
     "output_type": "display_data"
    },
    {
     "name": "stdout",
     "output_type": "stream",
     "text": [
      "Classification report of  clf_SVC\n",
      "              precision    recall  f1-score   support\n",
      "\n",
      "           A       0.43      0.51      0.47       662\n",
      "           D       0.30      0.37      0.33       580\n",
      "           H       0.59      0.44      0.50       952\n",
      "\n",
      "    accuracy                           0.44      2194\n",
      "   macro avg       0.44      0.44      0.43      2194\n",
      "weighted avg       0.47      0.44      0.45      2194\n",
      "\n",
      "Rank probability score: -0.21\n",
      "###############################################################\n"
     ]
    },
    {
     "data": {
      "text/plain": [
       "'in dataLogger: '"
      ]
     },
     "metadata": {},
     "output_type": "display_data"
    },
    {
     "data": {
      "text/html": [
       "<div>\n",
       "<style scoped>\n",
       "    .dataframe tbody tr th:only-of-type {\n",
       "        vertical-align: middle;\n",
       "    }\n",
       "\n",
       "    .dataframe tbody tr th {\n",
       "        vertical-align: top;\n",
       "    }\n",
       "\n",
       "    .dataframe thead th {\n",
       "        text-align: right;\n",
       "    }\n",
       "</style>\n",
       "<table border=\"1\" class=\"dataframe\">\n",
       "  <thead>\n",
       "    <tr style=\"text-align: right;\">\n",
       "      <th></th>\n",
       "      <th>clf</th>\n",
       "      <th>hyperparameter</th>\n",
       "      <th>F1_score</th>\n",
       "      <th>RPS_score</th>\n",
       "    </tr>\n",
       "  </thead>\n",
       "  <tbody>\n",
       "    <tr>\n",
       "      <th>0</th>\n",
       "      <td>clf_KNN</td>\n",
       "      <td>{'n_neighbors': [38]}</td>\n",
       "      <td>0.427264</td>\n",
       "      <td>-0.215485</td>\n",
       "    </tr>\n",
       "    <tr>\n",
       "      <th>1</th>\n",
       "      <td>clf_logistic</td>\n",
       "      <td>{'C': [50]}</td>\n",
       "      <td>0.453837</td>\n",
       "      <td>-0.214107</td>\n",
       "    </tr>\n",
       "    <tr>\n",
       "      <th>2</th>\n",
       "      <td>clf_SVC</td>\n",
       "      <td>{'C': [0.75]}</td>\n",
       "      <td>0.446637</td>\n",
       "      <td>-0.212307</td>\n",
       "    </tr>\n",
       "  </tbody>\n",
       "</table>\n",
       "</div>"
      ],
      "text/plain": [
       "            clf         hyperparameter  F1_score  RPS_score\n",
       "0       clf_KNN  {'n_neighbors': [38]}  0.427264  -0.215485\n",
       "1  clf_logistic            {'C': [50]}  0.453837  -0.214107\n",
       "2       clf_SVC          {'C': [0.75]}  0.446637  -0.212307"
      ]
     },
     "metadata": {},
     "output_type": "display_data"
    },
    {
     "name": "stdout",
     "output_type": "stream",
     "text": [
      "###############################################################\n"
     ]
    },
    {
     "data": {
      "image/png": "[encoded data removed]",
      "text/plain": [
       "<Figure size 432x288 with 2 Axes>"
      ]
     },
     "metadata": {
      "needs_background": "light"
     },
     "output_type": "display_data"
    },
    {
     "name": "stdout",
     "output_type": "stream",
     "text": [
      "Classification report of  clf_RF\n",
      "              precision    recall  f1-score   support\n",
      "\n",
      "           A       0.44      0.50      0.47       662\n",
      "           D       0.28      0.29      0.28       580\n",
      "           H       0.57      0.49      0.53       952\n",
      "\n",
      "    accuracy                           0.44      2194\n",
      "   macro avg       0.43      0.43      0.43      2194\n",
      "weighted avg       0.45      0.44      0.45      2194\n",
      "\n",
      "Rank probability score: -0.22\n",
      "###############################################################\n"
     ]
    },
    {
     "data": {
      "text/plain": [
       "'in dataLogger: '"
      ]
     },
     "metadata": {},
     "output_type": "display_data"
    },
    {
     "data": {
      "text/html": [
       "<div>\n",
       "<style scoped>\n",
       "    .dataframe tbody tr th:only-of-type {\n",
       "        vertical-align: middle;\n",
       "    }\n",
       "\n",
       "    .dataframe tbody tr th {\n",
       "        vertical-align: top;\n",
       "    }\n",
       "\n",
       "    .dataframe thead th {\n",
       "        text-align: right;\n",
       "    }\n",
       "</style>\n",
       "<table border=\"1\" class=\"dataframe\">\n",
       "  <thead>\n",
       "    <tr style=\"text-align: right;\">\n",
       "      <th></th>\n",
       "      <th>clf</th>\n",
       "      <th>hyperparameter</th>\n",
       "      <th>F1_score</th>\n",
       "      <th>RPS_score</th>\n",
       "    </tr>\n",
       "  </thead>\n",
       "  <tbody>\n",
       "    <tr>\n",
       "      <th>0</th>\n",
       "      <td>clf_KNN</td>\n",
       "      <td>{'n_neighbors': [38]}</td>\n",
       "      <td>0.427264</td>\n",
       "      <td>-0.215485</td>\n",
       "    </tr>\n",
       "    <tr>\n",
       "      <th>1</th>\n",
       "      <td>clf_logistic</td>\n",
       "      <td>{'C': [50]}</td>\n",
       "      <td>0.453837</td>\n",
       "      <td>-0.214107</td>\n",
       "    </tr>\n",
       "    <tr>\n",
       "      <th>2</th>\n",
       "      <td>clf_SVC</td>\n",
       "      <td>{'C': [0.75]}</td>\n",
       "      <td>0.446637</td>\n",
       "      <td>-0.212307</td>\n",
       "    </tr>\n",
       "    <tr>\n",
       "      <th>3</th>\n",
       "      <td>clf_RF</td>\n",
       "      <td>{'n_estimators': [80, 90, 100], 'max_depth': [...</td>\n",
       "      <td>0.445665</td>\n",
       "      <td>-0.215528</td>\n",
       "    </tr>\n",
       "  </tbody>\n",
       "</table>\n",
       "</div>"
      ],
      "text/plain": [
       "            clf                                     hyperparameter  F1_score  \\\n",
       "0       clf_KNN                              {'n_neighbors': [38]}  0.427264   \n",
       "1  clf_logistic                                        {'C': [50]}  0.453837   \n",
       "2       clf_SVC                                      {'C': [0.75]}  0.446637   \n",
       "3        clf_RF  {'n_estimators': [80, 90, 100], 'max_depth': [...  0.445665   \n",
       "\n",
       "   RPS_score  \n",
       "0  -0.215485  \n",
       "1  -0.214107  \n",
       "2  -0.212307  \n",
       "3  -0.215528  "
      ]
     },
     "metadata": {},
     "output_type": "display_data"
    },
    {
     "name": "stdout",
     "output_type": "stream",
     "text": [
      "###############################################################\n"
     ]
    },
    {
     "data": {
      "image/png": "[encoded data removed]",
      "text/plain": [
       "<Figure size 432x288 with 2 Axes>"
      ]
     },
     "metadata": {
      "needs_background": "light"
     },
     "output_type": "display_data"
    },
    {
     "name": "stdout",
     "output_type": "stream",
     "text": [
      "Classification report of  clf_GNB\n",
      "              precision    recall  f1-score   support\n",
      "\n",
      "           A       0.46      0.47      0.46       662\n",
      "           D       0.28      0.12      0.17       580\n",
      "           H       0.53      0.71      0.61       952\n",
      "\n",
      "    accuracy                           0.48      2194\n",
      "   macro avg       0.42      0.43      0.41      2194\n",
      "weighted avg       0.44      0.48      0.45      2194\n",
      "\n",
      "Rank probability score: -0.21\n",
      "###############################################################\n"
     ]
    },
    {
     "data": {
      "text/plain": [
       "'in dataLogger: '"
      ]
     },
     "metadata": {},
     "output_type": "display_data"
    },
    {
     "data": {
      "text/html": [
       "<div>\n",
       "<style scoped>\n",
       "    .dataframe tbody tr th:only-of-type {\n",
       "        vertical-align: middle;\n",
       "    }\n",
       "\n",
       "    .dataframe tbody tr th {\n",
       "        vertical-align: top;\n",
       "    }\n",
       "\n",
       "    .dataframe thead th {\n",
       "        text-align: right;\n",
       "    }\n",
       "</style>\n",
       "<table border=\"1\" class=\"dataframe\">\n",
       "  <thead>\n",
       "    <tr style=\"text-align: right;\">\n",
       "      <th></th>\n",
       "      <th>clf</th>\n",
       "      <th>hyperparameter</th>\n",
       "      <th>F1_score</th>\n",
       "      <th>RPS_score</th>\n",
       "    </tr>\n",
       "  </thead>\n",
       "  <tbody>\n",
       "    <tr>\n",
       "      <th>0</th>\n",
       "      <td>clf_KNN</td>\n",
       "      <td>{'n_neighbors': [38]}</td>\n",
       "      <td>0.427264</td>\n",
       "      <td>-0.215485</td>\n",
       "    </tr>\n",
       "    <tr>\n",
       "      <th>1</th>\n",
       "      <td>clf_logistic</td>\n",
       "      <td>{'C': [50]}</td>\n",
       "      <td>0.453837</td>\n",
       "      <td>-0.214107</td>\n",
       "    </tr>\n",
       "    <tr>\n",
       "      <th>2</th>\n",
       "      <td>clf_SVC</td>\n",
       "      <td>{'C': [0.75]}</td>\n",
       "      <td>0.446637</td>\n",
       "      <td>-0.212307</td>\n",
       "    </tr>\n",
       "    <tr>\n",
       "      <th>3</th>\n",
       "      <td>clf_RF</td>\n",
       "      <td>{'n_estimators': [80, 90, 100], 'max_depth': [...</td>\n",
       "      <td>0.445665</td>\n",
       "      <td>-0.215528</td>\n",
       "    </tr>\n",
       "    <tr>\n",
       "      <th>4</th>\n",
       "      <td>clf_GNB</td>\n",
       "      <td>{}</td>\n",
       "      <td>0.448002</td>\n",
       "      <td>-0.211547</td>\n",
       "    </tr>\n",
       "  </tbody>\n",
       "</table>\n",
       "</div>"
      ],
      "text/plain": [
       "            clf                                     hyperparameter  F1_score  \\\n",
       "0       clf_KNN                              {'n_neighbors': [38]}  0.427264   \n",
       "1  clf_logistic                                        {'C': [50]}  0.453837   \n",
       "2       clf_SVC                                      {'C': [0.75]}  0.446637   \n",
       "3        clf_RF  {'n_estimators': [80, 90, 100], 'max_depth': [...  0.445665   \n",
       "4       clf_GNB                                                 {}  0.448002   \n",
       "\n",
       "   RPS_score  \n",
       "0  -0.215485  \n",
       "1  -0.214107  \n",
       "2  -0.212307  \n",
       "3  -0.215528  \n",
       "4  -0.211547  "
      ]
     },
     "metadata": {},
     "output_type": "display_data"
    },
    {
     "data": {
      "image/png": "[encoded data removed]",
      "text/plain": [
       "<Figure size 576x432 with 1 Axes>"
      ]
     },
     "metadata": {
      "needs_background": "light"
     },
     "output_type": "display_data"
    }
   ],
   "source": [
    "from datetime import datetime \n",
    "logdf_col_name = ['clf', 'hyperparameter', 'F1_score', 'RPS_score']\n",
    "\n",
    "try: \n",
    "    display('last result: ', logdf.tail(1))\n",
    "except:\n",
    "    print('Initializing logdf')\n",
    "    logdf = pd.DataFrame(columns = logdf_col_name)\n",
    "\n",
    "logdf = DisplayResults(\n",
    "        Best_Classifiers_dict,\n",
    "        X_test,\n",
    "        y_test,\n",
    "        logdf,\n",
    "        logdf_col_name\n",
    "    )  "
   ]
  },
  {
   "cell_type": "raw",
   "metadata": {},
   "source": [
    "def print_to_latex(Best_Classifiers_dict):\n",
    "    for clf in Best_Classifiers_dict.keys():\n",
    "        print(\n",
    "            pd.DataFrame(\n",
    "                classification_report(\n",
    "                    y_test,\n",
    "                    Best_Classifiers_dict[clf]['Classifier'].predict(X_test),\n",
    "                    output_dict = True\n",
    "                )\n",
    "            ).T.to_latex()\n",
    "        )\n",
    "        \n",
    "print_to_latex(Best_Classifiers_dict)"
   ]
  },
  {
   "cell_type": "markdown",
   "metadata": {},
   "source": [
    "### Using custom score metric"
   ]
  },
  {
   "cell_type": "code",
   "execution_count": 39,
   "metadata": {},
   "outputs": [],
   "source": [
    "param_KNN = {'n_neighbors': [350]}\n",
    "param_logistic = {'C': [47]}\n",
    "param_SVC = {'C': [0.075]}\n",
    "param_RF = {'n_estimators':[460],'max_depth':[18], 'max_features':['auto'],'min_samples_split':[2]}\n",
    "param_GNB = {}\n",
    "\n",
    "param_list = [param_KNN, param_logistic, param_SVC, param_RF, param_GNB]\n",
    "\n",
    "CrossVal_dict = {\n",
    "    clf_name:{'Classifier':clf,\n",
    "              'Hyperparameter':param\n",
    "             } \n",
    "    for clf_name, clf, param in zip(classifier_names, clf_list, param_list)\n",
    "}"
   ]
  },
  {
   "cell_type": "code",
   "execution_count": 40,
   "metadata": {},
   "outputs": [],
   "source": [
    "Best_Classifiers_dict = ModelSelection(CrossVal_dict, score_fct = RPS_score)"
   ]
  },
  {
   "cell_type": "code",
   "execution_count": 41,
   "metadata": {},
   "outputs": [
    {
     "data": {
      "text/plain": [
       "{'n_neighbors': 350}"
      ]
     },
     "execution_count": 41,
     "metadata": {},
     "output_type": "execute_result"
    }
   ],
   "source": [
    "Best_Classifiers_dict['clf_KNN']['Hyperparameter']"
   ]
  },
  {
   "cell_type": "code",
   "execution_count": 42,
   "metadata": {},
   "outputs": [
    {
     "data": {
      "text/plain": [
       "{'C': 47}"
      ]
     },
     "execution_count": 42,
     "metadata": {},
     "output_type": "execute_result"
    }
   ],
   "source": [
    "Best_Classifiers_dict['clf_logistic']['Hyperparameter']"
   ]
  },
  {
   "cell_type": "code",
   "execution_count": 43,
   "metadata": {},
   "outputs": [
    {
     "data": {
      "text/plain": [
       "{'C': 0.075}"
      ]
     },
     "execution_count": 43,
     "metadata": {},
     "output_type": "execute_result"
    }
   ],
   "source": [
    "Best_Classifiers_dict['clf_SVC']['Hyperparameter']"
   ]
  },
  {
   "cell_type": "code",
   "execution_count": 44,
   "metadata": {},
   "outputs": [
    {
     "data": {
      "text/plain": [
       "{'max_depth': 18,\n",
       " 'max_features': 'auto',\n",
       " 'min_samples_split': 2,\n",
       " 'n_estimators': 460}"
      ]
     },
     "execution_count": 44,
     "metadata": {},
     "output_type": "execute_result"
    }
   ],
   "source": [
    "Best_Classifiers_dict['clf_RF']['Hyperparameter']"
   ]
  },
  {
   "cell_type": "code",
   "execution_count": 45,
   "metadata": {
    "scrolled": true
   },
   "outputs": [
    {
     "name": "stdout",
     "output_type": "stream",
     "text": [
      "###############################################################\n"
     ]
    },
    {
     "data": {
      "image/png": "[encoded data removed]",
      "text/plain": [
       "<Figure size 432x288 with 2 Axes>"
      ]
     },
     "metadata": {
      "needs_background": "light"
     },
     "output_type": "display_data"
    },
    {
     "name": "stdout",
     "output_type": "stream",
     "text": [
      "Classification report of  clf_KNN\n",
      "              precision    recall  f1-score   support\n",
      "\n",
      "           A       0.46      0.44      0.45       662\n",
      "           D       0.35      0.04      0.07       580\n",
      "           H       0.50      0.79      0.61       952\n",
      "\n",
      "    accuracy                           0.48      2194\n",
      "   macro avg       0.44      0.42      0.38      2194\n",
      "weighted avg       0.45      0.48      0.42      2194\n",
      "\n",
      "Rank probability score: -0.21\n",
      "###############################################################\n"
     ]
    },
    {
     "data": {
      "text/plain": [
       "'in dataLogger: '"
      ]
     },
     "metadata": {},
     "output_type": "display_data"
    },
    {
     "data": {
      "text/html": [
       "<div>\n",
       "<style scoped>\n",
       "    .dataframe tbody tr th:only-of-type {\n",
       "        vertical-align: middle;\n",
       "    }\n",
       "\n",
       "    .dataframe tbody tr th {\n",
       "        vertical-align: top;\n",
       "    }\n",
       "\n",
       "    .dataframe thead th {\n",
       "        text-align: right;\n",
       "    }\n",
       "</style>\n",
       "<table border=\"1\" class=\"dataframe\">\n",
       "  <thead>\n",
       "    <tr style=\"text-align: right;\">\n",
       "      <th></th>\n",
       "      <th>clf</th>\n",
       "      <th>hyperparameter</th>\n",
       "      <th>F1_score</th>\n",
       "      <th>RPS_score</th>\n",
       "    </tr>\n",
       "  </thead>\n",
       "  <tbody>\n",
       "    <tr>\n",
       "      <th>0</th>\n",
       "      <td>clf_KNN</td>\n",
       "      <td>{'n_neighbors': [38]}</td>\n",
       "      <td>0.427264</td>\n",
       "      <td>-0.215485</td>\n",
       "    </tr>\n",
       "    <tr>\n",
       "      <th>1</th>\n",
       "      <td>clf_logistic</td>\n",
       "      <td>{'C': [50]}</td>\n",
       "      <td>0.453837</td>\n",
       "      <td>-0.214107</td>\n",
       "    </tr>\n",
       "    <tr>\n",
       "      <th>2</th>\n",
       "      <td>clf_SVC</td>\n",
       "      <td>{'C': [0.75]}</td>\n",
       "      <td>0.446637</td>\n",
       "      <td>-0.212307</td>\n",
       "    </tr>\n",
       "    <tr>\n",
       "      <th>3</th>\n",
       "      <td>clf_RF</td>\n",
       "      <td>{'n_estimators': [80, 90, 100], 'max_depth': [...</td>\n",
       "      <td>0.445665</td>\n",
       "      <td>-0.215528</td>\n",
       "    </tr>\n",
       "    <tr>\n",
       "      <th>4</th>\n",
       "      <td>clf_GNB</td>\n",
       "      <td>{}</td>\n",
       "      <td>0.448002</td>\n",
       "      <td>-0.211547</td>\n",
       "    </tr>\n",
       "    <tr>\n",
       "      <th>5</th>\n",
       "      <td>clf_KNN</td>\n",
       "      <td>{'n_neighbors': [38]}</td>\n",
       "      <td>0.427264</td>\n",
       "      <td>-0.215485</td>\n",
       "    </tr>\n",
       "    <tr>\n",
       "      <th>6</th>\n",
       "      <td>clf_logistic</td>\n",
       "      <td>{'C': [50]}</td>\n",
       "      <td>0.453837</td>\n",
       "      <td>-0.214107</td>\n",
       "    </tr>\n",
       "    <tr>\n",
       "      <th>7</th>\n",
       "      <td>clf_SVC</td>\n",
       "      <td>{'C': [0.75]}</td>\n",
       "      <td>0.446637</td>\n",
       "      <td>-0.212270</td>\n",
       "    </tr>\n",
       "    <tr>\n",
       "      <th>8</th>\n",
       "      <td>clf_RF</td>\n",
       "      <td>{'n_estimators': [80, 90, 100], 'max_depth': [...</td>\n",
       "      <td>0.460445</td>\n",
       "      <td>-0.214083</td>\n",
       "    </tr>\n",
       "    <tr>\n",
       "      <th>9</th>\n",
       "      <td>clf_GNB</td>\n",
       "      <td>{}</td>\n",
       "      <td>0.448002</td>\n",
       "      <td>-0.211547</td>\n",
       "    </tr>\n",
       "    <tr>\n",
       "      <th>10</th>\n",
       "      <td>clf_KNN</td>\n",
       "      <td>{'n_neighbors': [350]}</td>\n",
       "      <td>0.419609</td>\n",
       "      <td>-0.210036</td>\n",
       "    </tr>\n",
       "  </tbody>\n",
       "</table>\n",
       "</div>"
      ],
      "text/plain": [
       "             clf                                     hyperparameter  F1_score  \\\n",
       "0        clf_KNN                              {'n_neighbors': [38]}  0.427264   \n",
       "1   clf_logistic                                        {'C': [50]}  0.453837   \n",
       "2        clf_SVC                                      {'C': [0.75]}  0.446637   \n",
       "3         clf_RF  {'n_estimators': [80, 90, 100], 'max_depth': [...  0.445665   \n",
       "4        clf_GNB                                                 {}  0.448002   \n",
       "5        clf_KNN                              {'n_neighbors': [38]}  0.427264   \n",
       "6   clf_logistic                                        {'C': [50]}  0.453837   \n",
       "7        clf_SVC                                      {'C': [0.75]}  0.446637   \n",
       "8         clf_RF  {'n_estimators': [80, 90, 100], 'max_depth': [...  0.460445   \n",
       "9        clf_GNB                                                 {}  0.448002   \n",
       "10       clf_KNN                             {'n_neighbors': [350]}  0.419609   \n",
       "\n",
       "    RPS_score  \n",
       "0   -0.215485  \n",
       "1   -0.214107  \n",
       "2   -0.212307  \n",
       "3   -0.215528  \n",
       "4   -0.211547  \n",
       "5   -0.215485  \n",
       "6   -0.214107  \n",
       "7   -0.212270  \n",
       "8   -0.214083  \n",
       "9   -0.211547  \n",
       "10  -0.210036  "
      ]
     },
     "metadata": {},
     "output_type": "display_data"
    },
    {
     "name": "stdout",
     "output_type": "stream",
     "text": [
      "###############################################################\n"
     ]
    },
    {
     "data": {
      "image/png": "[encoded data removed]",
      "text/plain": [
       "<Figure size 432x288 with 2 Axes>"
      ]
     },
     "metadata": {
      "needs_background": "light"
     },
     "output_type": "display_data"
    },
    {
     "name": "stdout",
     "output_type": "stream",
     "text": [
      "Classification report of  clf_logistic\n",
      "              precision    recall  f1-score   support\n",
      "\n",
      "           A       0.43      0.54      0.48       662\n",
      "           D       0.29      0.25      0.27       580\n",
      "           H       0.58      0.53      0.55       952\n",
      "\n",
      "    accuracy                           0.46      2194\n",
      "   macro avg       0.43      0.44      0.43      2194\n",
      "weighted avg       0.46      0.46      0.45      2194\n",
      "\n",
      "Rank probability score: -0.21\n",
      "###############################################################\n"
     ]
    },
    {
     "data": {
      "text/plain": [
       "'in dataLogger: '"
      ]
     },
     "metadata": {},
     "output_type": "display_data"
    },
    {
     "data": {
      "text/html": [
       "<div>\n",
       "<style scoped>\n",
       "    .dataframe tbody tr th:only-of-type {\n",
       "        vertical-align: middle;\n",
       "    }\n",
       "\n",
       "    .dataframe tbody tr th {\n",
       "        vertical-align: top;\n",
       "    }\n",
       "\n",
       "    .dataframe thead th {\n",
       "        text-align: right;\n",
       "    }\n",
       "</style>\n",
       "<table border=\"1\" class=\"dataframe\">\n",
       "  <thead>\n",
       "    <tr style=\"text-align: right;\">\n",
       "      <th></th>\n",
       "      <th>clf</th>\n",
       "      <th>hyperparameter</th>\n",
       "      <th>F1_score</th>\n",
       "      <th>RPS_score</th>\n",
       "    </tr>\n",
       "  </thead>\n",
       "  <tbody>\n",
       "    <tr>\n",
       "      <th>0</th>\n",
       "      <td>clf_KNN</td>\n",
       "      <td>{'n_neighbors': [38]}</td>\n",
       "      <td>0.427264</td>\n",
       "      <td>-0.215485</td>\n",
       "    </tr>\n",
       "    <tr>\n",
       "      <th>1</th>\n",
       "      <td>clf_logistic</td>\n",
       "      <td>{'C': [50]}</td>\n",
       "      <td>0.453837</td>\n",
       "      <td>-0.214107</td>\n",
       "    </tr>\n",
       "    <tr>\n",
       "      <th>2</th>\n",
       "      <td>clf_SVC</td>\n",
       "      <td>{'C': [0.75]}</td>\n",
       "      <td>0.446637</td>\n",
       "      <td>-0.212307</td>\n",
       "    </tr>\n",
       "    <tr>\n",
       "      <th>3</th>\n",
       "      <td>clf_RF</td>\n",
       "      <td>{'n_estimators': [80, 90, 100], 'max_depth': [...</td>\n",
       "      <td>0.445665</td>\n",
       "      <td>-0.215528</td>\n",
       "    </tr>\n",
       "    <tr>\n",
       "      <th>4</th>\n",
       "      <td>clf_GNB</td>\n",
       "      <td>{}</td>\n",
       "      <td>0.448002</td>\n",
       "      <td>-0.211547</td>\n",
       "    </tr>\n",
       "    <tr>\n",
       "      <th>5</th>\n",
       "      <td>clf_KNN</td>\n",
       "      <td>{'n_neighbors': [38]}</td>\n",
       "      <td>0.427264</td>\n",
       "      <td>-0.215485</td>\n",
       "    </tr>\n",
       "    <tr>\n",
       "      <th>6</th>\n",
       "      <td>clf_logistic</td>\n",
       "      <td>{'C': [50]}</td>\n",
       "      <td>0.453837</td>\n",
       "      <td>-0.214107</td>\n",
       "    </tr>\n",
       "    <tr>\n",
       "      <th>7</th>\n",
       "      <td>clf_SVC</td>\n",
       "      <td>{'C': [0.75]}</td>\n",
       "      <td>0.446637</td>\n",
       "      <td>-0.212270</td>\n",
       "    </tr>\n",
       "    <tr>\n",
       "      <th>8</th>\n",
       "      <td>clf_RF</td>\n",
       "      <td>{'n_estimators': [80, 90, 100], 'max_depth': [...</td>\n",
       "      <td>0.460445</td>\n",
       "      <td>-0.214083</td>\n",
       "    </tr>\n",
       "    <tr>\n",
       "      <th>9</th>\n",
       "      <td>clf_GNB</td>\n",
       "      <td>{}</td>\n",
       "      <td>0.448002</td>\n",
       "      <td>-0.211547</td>\n",
       "    </tr>\n",
       "    <tr>\n",
       "      <th>10</th>\n",
       "      <td>clf_KNN</td>\n",
       "      <td>{'n_neighbors': [350]}</td>\n",
       "      <td>0.419609</td>\n",
       "      <td>-0.210036</td>\n",
       "    </tr>\n",
       "    <tr>\n",
       "      <th>11</th>\n",
       "      <td>clf_logistic</td>\n",
       "      <td>{'C': [47]}</td>\n",
       "      <td>0.453837</td>\n",
       "      <td>-0.214107</td>\n",
       "    </tr>\n",
       "  </tbody>\n",
       "</table>\n",
       "</div>"
      ],
      "text/plain": [
       "             clf                                     hyperparameter  F1_score  \\\n",
       "0        clf_KNN                              {'n_neighbors': [38]}  0.427264   \n",
       "1   clf_logistic                                        {'C': [50]}  0.453837   \n",
       "2        clf_SVC                                      {'C': [0.75]}  0.446637   \n",
       "3         clf_RF  {'n_estimators': [80, 90, 100], 'max_depth': [...  0.445665   \n",
       "4        clf_GNB                                                 {}  0.448002   \n",
       "5        clf_KNN                              {'n_neighbors': [38]}  0.427264   \n",
       "6   clf_logistic                                        {'C': [50]}  0.453837   \n",
       "7        clf_SVC                                      {'C': [0.75]}  0.446637   \n",
       "8         clf_RF  {'n_estimators': [80, 90, 100], 'max_depth': [...  0.460445   \n",
       "9        clf_GNB                                                 {}  0.448002   \n",
       "10       clf_KNN                             {'n_neighbors': [350]}  0.419609   \n",
       "11  clf_logistic                                        {'C': [47]}  0.453837   \n",
       "\n",
       "    RPS_score  \n",
       "0   -0.215485  \n",
       "1   -0.214107  \n",
       "2   -0.212307  \n",
       "3   -0.215528  \n",
       "4   -0.211547  \n",
       "5   -0.215485  \n",
       "6   -0.214107  \n",
       "7   -0.212270  \n",
       "8   -0.214083  \n",
       "9   -0.211547  \n",
       "10  -0.210036  \n",
       "11  -0.214107  "
      ]
     },
     "metadata": {},
     "output_type": "display_data"
    },
    {
     "name": "stdout",
     "output_type": "stream",
     "text": [
      "###############################################################\n"
     ]
    },
    {
     "data": {
      "image/png": "[encoded data removed]",
      "text/plain": [
       "<Figure size 432x288 with 2 Axes>"
      ]
     },
     "metadata": {
      "needs_background": "light"
     },
     "output_type": "display_data"
    },
    {
     "name": "stdout",
     "output_type": "stream",
     "text": [
      "Classification report of  clf_SVC\n",
      "              precision    recall  f1-score   support\n",
      "\n",
      "           A       0.45      0.51      0.48       662\n",
      "           D       0.30      0.39      0.34       580\n",
      "           H       0.60      0.44      0.51       952\n",
      "\n",
      "    accuracy                           0.45      2194\n",
      "   macro avg       0.45      0.45      0.44      2194\n",
      "weighted avg       0.48      0.45      0.46      2194\n",
      "\n",
      "Rank probability score: -0.21\n",
      "###############################################################\n"
     ]
    },
    {
     "data": {
      "text/plain": [
       "'in dataLogger: '"
      ]
     },
     "metadata": {},
     "output_type": "display_data"
    },
    {
     "data": {
      "text/html": [
       "<div>\n",
       "<style scoped>\n",
       "    .dataframe tbody tr th:only-of-type {\n",
       "        vertical-align: middle;\n",
       "    }\n",
       "\n",
       "    .dataframe tbody tr th {\n",
       "        vertical-align: top;\n",
       "    }\n",
       "\n",
       "    .dataframe thead th {\n",
       "        text-align: right;\n",
       "    }\n",
       "</style>\n",
       "<table border=\"1\" class=\"dataframe\">\n",
       "  <thead>\n",
       "    <tr style=\"text-align: right;\">\n",
       "      <th></th>\n",
       "      <th>clf</th>\n",
       "      <th>hyperparameter</th>\n",
       "      <th>F1_score</th>\n",
       "      <th>RPS_score</th>\n",
       "    </tr>\n",
       "  </thead>\n",
       "  <tbody>\n",
       "    <tr>\n",
       "      <th>0</th>\n",
       "      <td>clf_KNN</td>\n",
       "      <td>{'n_neighbors': [38]}</td>\n",
       "      <td>0.427264</td>\n",
       "      <td>-0.215485</td>\n",
       "    </tr>\n",
       "    <tr>\n",
       "      <th>1</th>\n",
       "      <td>clf_logistic</td>\n",
       "      <td>{'C': [50]}</td>\n",
       "      <td>0.453837</td>\n",
       "      <td>-0.214107</td>\n",
       "    </tr>\n",
       "    <tr>\n",
       "      <th>2</th>\n",
       "      <td>clf_SVC</td>\n",
       "      <td>{'C': [0.75]}</td>\n",
       "      <td>0.446637</td>\n",
       "      <td>-0.212307</td>\n",
       "    </tr>\n",
       "    <tr>\n",
       "      <th>3</th>\n",
       "      <td>clf_RF</td>\n",
       "      <td>{'n_estimators': [80, 90, 100], 'max_depth': [...</td>\n",
       "      <td>0.445665</td>\n",
       "      <td>-0.215528</td>\n",
       "    </tr>\n",
       "    <tr>\n",
       "      <th>4</th>\n",
       "      <td>clf_GNB</td>\n",
       "      <td>{}</td>\n",
       "      <td>0.448002</td>\n",
       "      <td>-0.211547</td>\n",
       "    </tr>\n",
       "    <tr>\n",
       "      <th>5</th>\n",
       "      <td>clf_KNN</td>\n",
       "      <td>{'n_neighbors': [38]}</td>\n",
       "      <td>0.427264</td>\n",
       "      <td>-0.215485</td>\n",
       "    </tr>\n",
       "    <tr>\n",
       "      <th>6</th>\n",
       "      <td>clf_logistic</td>\n",
       "      <td>{'C': [50]}</td>\n",
       "      <td>0.453837</td>\n",
       "      <td>-0.214107</td>\n",
       "    </tr>\n",
       "    <tr>\n",
       "      <th>7</th>\n",
       "      <td>clf_SVC</td>\n",
       "      <td>{'C': [0.75]}</td>\n",
       "      <td>0.446637</td>\n",
       "      <td>-0.212270</td>\n",
       "    </tr>\n",
       "    <tr>\n",
       "      <th>8</th>\n",
       "      <td>clf_RF</td>\n",
       "      <td>{'n_estimators': [80, 90, 100], 'max_depth': [...</td>\n",
       "      <td>0.460445</td>\n",
       "      <td>-0.214083</td>\n",
       "    </tr>\n",
       "    <tr>\n",
       "      <th>9</th>\n",
       "      <td>clf_GNB</td>\n",
       "      <td>{}</td>\n",
       "      <td>0.448002</td>\n",
       "      <td>-0.211547</td>\n",
       "    </tr>\n",
       "    <tr>\n",
       "      <th>10</th>\n",
       "      <td>clf_KNN</td>\n",
       "      <td>{'n_neighbors': [350]}</td>\n",
       "      <td>0.419609</td>\n",
       "      <td>-0.210036</td>\n",
       "    </tr>\n",
       "    <tr>\n",
       "      <th>11</th>\n",
       "      <td>clf_logistic</td>\n",
       "      <td>{'C': [47]}</td>\n",
       "      <td>0.453837</td>\n",
       "      <td>-0.214107</td>\n",
       "    </tr>\n",
       "    <tr>\n",
       "      <th>12</th>\n",
       "      <td>clf_SVC</td>\n",
       "      <td>{'C': [0.075]}</td>\n",
       "      <td>0.455431</td>\n",
       "      <td>-0.211563</td>\n",
       "    </tr>\n",
       "  </tbody>\n",
       "</table>\n",
       "</div>"
      ],
      "text/plain": [
       "             clf                                     hyperparameter  F1_score  \\\n",
       "0        clf_KNN                              {'n_neighbors': [38]}  0.427264   \n",
       "1   clf_logistic                                        {'C': [50]}  0.453837   \n",
       "2        clf_SVC                                      {'C': [0.75]}  0.446637   \n",
       "3         clf_RF  {'n_estimators': [80, 90, 100], 'max_depth': [...  0.445665   \n",
       "4        clf_GNB                                                 {}  0.448002   \n",
       "5        clf_KNN                              {'n_neighbors': [38]}  0.427264   \n",
       "6   clf_logistic                                        {'C': [50]}  0.453837   \n",
       "7        clf_SVC                                      {'C': [0.75]}  0.446637   \n",
       "8         clf_RF  {'n_estimators': [80, 90, 100], 'max_depth': [...  0.460445   \n",
       "9        clf_GNB                                                 {}  0.448002   \n",
       "10       clf_KNN                             {'n_neighbors': [350]}  0.419609   \n",
       "11  clf_logistic                                        {'C': [47]}  0.453837   \n",
       "12       clf_SVC                                     {'C': [0.075]}  0.455431   \n",
       "\n",
       "    RPS_score  \n",
       "0   -0.215485  \n",
       "1   -0.214107  \n",
       "2   -0.212307  \n",
       "3   -0.215528  \n",
       "4   -0.211547  \n",
       "5   -0.215485  \n",
       "6   -0.214107  \n",
       "7   -0.212270  \n",
       "8   -0.214083  \n",
       "9   -0.211547  \n",
       "10  -0.210036  \n",
       "11  -0.214107  \n",
       "12  -0.211563  "
      ]
     },
     "metadata": {},
     "output_type": "display_data"
    },
    {
     "name": "stdout",
     "output_type": "stream",
     "text": [
      "###############################################################\n"
     ]
    },
    {
     "data": {
      "image/png": "[encoded data removed]",
      "text/plain": [
       "<Figure size 432x288 with 2 Axes>"
      ]
     },
     "metadata": {
      "needs_background": "light"
     },
     "output_type": "display_data"
    },
    {
     "name": "stdout",
     "output_type": "stream",
     "text": [
      "Classification report of  clf_RF\n",
      "              precision    recall  f1-score   support\n",
      "\n",
      "           A       0.45      0.47      0.46       662\n",
      "           D       0.26      0.06      0.10       580\n",
      "           H       0.51      0.72      0.59       952\n",
      "\n",
      "    accuracy                           0.47      2194\n",
      "   macro avg       0.40      0.42      0.38      2194\n",
      "weighted avg       0.42      0.47      0.42      2194\n",
      "\n",
      "Rank probability score: -0.21\n",
      "###############################################################\n"
     ]
    },
    {
     "data": {
      "text/plain": [
       "'in dataLogger: '"
      ]
     },
     "metadata": {},
     "output_type": "display_data"
    },
    {
     "data": {
      "text/html": [
       "<div>\n",
       "<style scoped>\n",
       "    .dataframe tbody tr th:only-of-type {\n",
       "        vertical-align: middle;\n",
       "    }\n",
       "\n",
       "    .dataframe tbody tr th {\n",
       "        vertical-align: top;\n",
       "    }\n",
       "\n",
       "    .dataframe thead th {\n",
       "        text-align: right;\n",
       "    }\n",
       "</style>\n",
       "<table border=\"1\" class=\"dataframe\">\n",
       "  <thead>\n",
       "    <tr style=\"text-align: right;\">\n",
       "      <th></th>\n",
       "      <th>clf</th>\n",
       "      <th>hyperparameter</th>\n",
       "      <th>F1_score</th>\n",
       "      <th>RPS_score</th>\n",
       "    </tr>\n",
       "  </thead>\n",
       "  <tbody>\n",
       "    <tr>\n",
       "      <th>0</th>\n",
       "      <td>clf_KNN</td>\n",
       "      <td>{'n_neighbors': [38]}</td>\n",
       "      <td>0.427264</td>\n",
       "      <td>-0.215485</td>\n",
       "    </tr>\n",
       "    <tr>\n",
       "      <th>1</th>\n",
       "      <td>clf_logistic</td>\n",
       "      <td>{'C': [50]}</td>\n",
       "      <td>0.453837</td>\n",
       "      <td>-0.214107</td>\n",
       "    </tr>\n",
       "    <tr>\n",
       "      <th>2</th>\n",
       "      <td>clf_SVC</td>\n",
       "      <td>{'C': [0.75]}</td>\n",
       "      <td>0.446637</td>\n",
       "      <td>-0.212307</td>\n",
       "    </tr>\n",
       "    <tr>\n",
       "      <th>3</th>\n",
       "      <td>clf_RF</td>\n",
       "      <td>{'n_estimators': [80, 90, 100], 'max_depth': [...</td>\n",
       "      <td>0.445665</td>\n",
       "      <td>-0.215528</td>\n",
       "    </tr>\n",
       "    <tr>\n",
       "      <th>4</th>\n",
       "      <td>clf_GNB</td>\n",
       "      <td>{}</td>\n",
       "      <td>0.448002</td>\n",
       "      <td>-0.211547</td>\n",
       "    </tr>\n",
       "    <tr>\n",
       "      <th>5</th>\n",
       "      <td>clf_KNN</td>\n",
       "      <td>{'n_neighbors': [38]}</td>\n",
       "      <td>0.427264</td>\n",
       "      <td>-0.215485</td>\n",
       "    </tr>\n",
       "    <tr>\n",
       "      <th>6</th>\n",
       "      <td>clf_logistic</td>\n",
       "      <td>{'C': [50]}</td>\n",
       "      <td>0.453837</td>\n",
       "      <td>-0.214107</td>\n",
       "    </tr>\n",
       "    <tr>\n",
       "      <th>7</th>\n",
       "      <td>clf_SVC</td>\n",
       "      <td>{'C': [0.75]}</td>\n",
       "      <td>0.446637</td>\n",
       "      <td>-0.212270</td>\n",
       "    </tr>\n",
       "    <tr>\n",
       "      <th>8</th>\n",
       "      <td>clf_RF</td>\n",
       "      <td>{'n_estimators': [80, 90, 100], 'max_depth': [...</td>\n",
       "      <td>0.460445</td>\n",
       "      <td>-0.214083</td>\n",
       "    </tr>\n",
       "    <tr>\n",
       "      <th>9</th>\n",
       "      <td>clf_GNB</td>\n",
       "      <td>{}</td>\n",
       "      <td>0.448002</td>\n",
       "      <td>-0.211547</td>\n",
       "    </tr>\n",
       "    <tr>\n",
       "      <th>10</th>\n",
       "      <td>clf_KNN</td>\n",
       "      <td>{'n_neighbors': [350]}</td>\n",
       "      <td>0.419609</td>\n",
       "      <td>-0.210036</td>\n",
       "    </tr>\n",
       "    <tr>\n",
       "      <th>11</th>\n",
       "      <td>clf_logistic</td>\n",
       "      <td>{'C': [47]}</td>\n",
       "      <td>0.453837</td>\n",
       "      <td>-0.214107</td>\n",
       "    </tr>\n",
       "    <tr>\n",
       "      <th>12</th>\n",
       "      <td>clf_SVC</td>\n",
       "      <td>{'C': [0.075]}</td>\n",
       "      <td>0.455431</td>\n",
       "      <td>-0.211563</td>\n",
       "    </tr>\n",
       "    <tr>\n",
       "      <th>13</th>\n",
       "      <td>clf_RF</td>\n",
       "      <td>{'n_estimators': [460], 'max_depth': [18], 'ma...</td>\n",
       "      <td>0.422727</td>\n",
       "      <td>-0.211742</td>\n",
       "    </tr>\n",
       "  </tbody>\n",
       "</table>\n",
       "</div>"
      ],
      "text/plain": [
       "             clf                                     hyperparameter  F1_score  \\\n",
       "0        clf_KNN                              {'n_neighbors': [38]}  0.427264   \n",
       "1   clf_logistic                                        {'C': [50]}  0.453837   \n",
       "2        clf_SVC                                      {'C': [0.75]}  0.446637   \n",
       "3         clf_RF  {'n_estimators': [80, 90, 100], 'max_depth': [...  0.445665   \n",
       "4        clf_GNB                                                 {}  0.448002   \n",
       "5        clf_KNN                              {'n_neighbors': [38]}  0.427264   \n",
       "6   clf_logistic                                        {'C': [50]}  0.453837   \n",
       "7        clf_SVC                                      {'C': [0.75]}  0.446637   \n",
       "8         clf_RF  {'n_estimators': [80, 90, 100], 'max_depth': [...  0.460445   \n",
       "9        clf_GNB                                                 {}  0.448002   \n",
       "10       clf_KNN                             {'n_neighbors': [350]}  0.419609   \n",
       "11  clf_logistic                                        {'C': [47]}  0.453837   \n",
       "12       clf_SVC                                     {'C': [0.075]}  0.455431   \n",
       "13        clf_RF  {'n_estimators': [460], 'max_depth': [18], 'ma...  0.422727   \n",
       "\n",
       "    RPS_score  \n",
       "0   -0.215485  \n",
       "1   -0.214107  \n",
       "2   -0.212307  \n",
       "3   -0.215528  \n",
       "4   -0.211547  \n",
       "5   -0.215485  \n",
       "6   -0.214107  \n",
       "7   -0.212270  \n",
       "8   -0.214083  \n",
       "9   -0.211547  \n",
       "10  -0.210036  \n",
       "11  -0.214107  \n",
       "12  -0.211563  \n",
       "13  -0.211742  "
      ]
     },
     "metadata": {},
     "output_type": "display_data"
    },
    {
     "name": "stdout",
     "output_type": "stream",
     "text": [
      "###############################################################\n"
     ]
    },
    {
     "data": {
      "image/png": "[encoded data removed]",
      "text/plain": [
       "<Figure size 432x288 with 2 Axes>"
      ]
     },
     "metadata": {
      "needs_background": "light"
     },
     "output_type": "display_data"
    },
    {
     "name": "stdout",
     "output_type": "stream",
     "text": [
      "Classification report of  clf_GNB\n",
      "              precision    recall  f1-score   support\n",
      "\n",
      "           A       0.46      0.47      0.46       662\n",
      "           D       0.28      0.12      0.17       580\n",
      "           H       0.53      0.71      0.61       952\n",
      "\n",
      "    accuracy                           0.48      2194\n",
      "   macro avg       0.42      0.43      0.41      2194\n",
      "weighted avg       0.44      0.48      0.45      2194\n",
      "\n",
      "Rank probability score: -0.21\n",
      "###############################################################\n"
     ]
    },
    {
     "data": {
      "text/plain": [
       "'in dataLogger: '"
      ]
     },
     "metadata": {},
     "output_type": "display_data"
    },
    {
     "data": {
      "text/html": [
       "<div>\n",
       "<style scoped>\n",
       "    .dataframe tbody tr th:only-of-type {\n",
       "        vertical-align: middle;\n",
       "    }\n",
       "\n",
       "    .dataframe tbody tr th {\n",
       "        vertical-align: top;\n",
       "    }\n",
       "\n",
       "    .dataframe thead th {\n",
       "        text-align: right;\n",
       "    }\n",
       "</style>\n",
       "<table border=\"1\" class=\"dataframe\">\n",
       "  <thead>\n",
       "    <tr style=\"text-align: right;\">\n",
       "      <th></th>\n",
       "      <th>clf</th>\n",
       "      <th>hyperparameter</th>\n",
       "      <th>F1_score</th>\n",
       "      <th>RPS_score</th>\n",
       "    </tr>\n",
       "  </thead>\n",
       "  <tbody>\n",
       "    <tr>\n",
       "      <th>0</th>\n",
       "      <td>clf_KNN</td>\n",
       "      <td>{'n_neighbors': [38]}</td>\n",
       "      <td>0.427264</td>\n",
       "      <td>-0.215485</td>\n",
       "    </tr>\n",
       "    <tr>\n",
       "      <th>1</th>\n",
       "      <td>clf_logistic</td>\n",
       "      <td>{'C': [50]}</td>\n",
       "      <td>0.453837</td>\n",
       "      <td>-0.214107</td>\n",
       "    </tr>\n",
       "    <tr>\n",
       "      <th>2</th>\n",
       "      <td>clf_SVC</td>\n",
       "      <td>{'C': [0.75]}</td>\n",
       "      <td>0.446637</td>\n",
       "      <td>-0.212307</td>\n",
       "    </tr>\n",
       "    <tr>\n",
       "      <th>3</th>\n",
       "      <td>clf_RF</td>\n",
       "      <td>{'n_estimators': [80, 90, 100], 'max_depth': [...</td>\n",
       "      <td>0.445665</td>\n",
       "      <td>-0.215528</td>\n",
       "    </tr>\n",
       "    <tr>\n",
       "      <th>4</th>\n",
       "      <td>clf_GNB</td>\n",
       "      <td>{}</td>\n",
       "      <td>0.448002</td>\n",
       "      <td>-0.211547</td>\n",
       "    </tr>\n",
       "    <tr>\n",
       "      <th>5</th>\n",
       "      <td>clf_KNN</td>\n",
       "      <td>{'n_neighbors': [38]}</td>\n",
       "      <td>0.427264</td>\n",
       "      <td>-0.215485</td>\n",
       "    </tr>\n",
       "    <tr>\n",
       "      <th>6</th>\n",
       "      <td>clf_logistic</td>\n",
       "      <td>{'C': [50]}</td>\n",
       "      <td>0.453837</td>\n",
       "      <td>-0.214107</td>\n",
       "    </tr>\n",
       "    <tr>\n",
       "      <th>7</th>\n",
       "      <td>clf_SVC</td>\n",
       "      <td>{'C': [0.75]}</td>\n",
       "      <td>0.446637</td>\n",
       "      <td>-0.212270</td>\n",
       "    </tr>\n",
       "    <tr>\n",
       "      <th>8</th>\n",
       "      <td>clf_RF</td>\n",
       "      <td>{'n_estimators': [80, 90, 100], 'max_depth': [...</td>\n",
       "      <td>0.460445</td>\n",
       "      <td>-0.214083</td>\n",
       "    </tr>\n",
       "    <tr>\n",
       "      <th>9</th>\n",
       "      <td>clf_GNB</td>\n",
       "      <td>{}</td>\n",
       "      <td>0.448002</td>\n",
       "      <td>-0.211547</td>\n",
       "    </tr>\n",
       "    <tr>\n",
       "      <th>10</th>\n",
       "      <td>clf_KNN</td>\n",
       "      <td>{'n_neighbors': [350]}</td>\n",
       "      <td>0.419609</td>\n",
       "      <td>-0.210036</td>\n",
       "    </tr>\n",
       "    <tr>\n",
       "      <th>11</th>\n",
       "      <td>clf_logistic</td>\n",
       "      <td>{'C': [47]}</td>\n",
       "      <td>0.453837</td>\n",
       "      <td>-0.214107</td>\n",
       "    </tr>\n",
       "    <tr>\n",
       "      <th>12</th>\n",
       "      <td>clf_SVC</td>\n",
       "      <td>{'C': [0.075]}</td>\n",
       "      <td>0.455431</td>\n",
       "      <td>-0.211563</td>\n",
       "    </tr>\n",
       "    <tr>\n",
       "      <th>13</th>\n",
       "      <td>clf_RF</td>\n",
       "      <td>{'n_estimators': [460], 'max_depth': [18], 'ma...</td>\n",
       "      <td>0.422727</td>\n",
       "      <td>-0.211742</td>\n",
       "    </tr>\n",
       "    <tr>\n",
       "      <th>14</th>\n",
       "      <td>clf_GNB</td>\n",
       "      <td>{}</td>\n",
       "      <td>0.448002</td>\n",
       "      <td>-0.211547</td>\n",
       "    </tr>\n",
       "  </tbody>\n",
       "</table>\n",
       "</div>"
      ],
      "text/plain": [
       "             clf                                     hyperparameter  F1_score  \\\n",
       "0        clf_KNN                              {'n_neighbors': [38]}  0.427264   \n",
       "1   clf_logistic                                        {'C': [50]}  0.453837   \n",
       "2        clf_SVC                                      {'C': [0.75]}  0.446637   \n",
       "3         clf_RF  {'n_estimators': [80, 90, 100], 'max_depth': [...  0.445665   \n",
       "4        clf_GNB                                                 {}  0.448002   \n",
       "5        clf_KNN                              {'n_neighbors': [38]}  0.427264   \n",
       "6   clf_logistic                                        {'C': [50]}  0.453837   \n",
       "7        clf_SVC                                      {'C': [0.75]}  0.446637   \n",
       "8         clf_RF  {'n_estimators': [80, 90, 100], 'max_depth': [...  0.460445   \n",
       "9        clf_GNB                                                 {}  0.448002   \n",
       "10       clf_KNN                             {'n_neighbors': [350]}  0.419609   \n",
       "11  clf_logistic                                        {'C': [47]}  0.453837   \n",
       "12       clf_SVC                                     {'C': [0.075]}  0.455431   \n",
       "13        clf_RF  {'n_estimators': [460], 'max_depth': [18], 'ma...  0.422727   \n",
       "14       clf_GNB                                                 {}  0.448002   \n",
       "\n",
       "    RPS_score  \n",
       "0   -0.215485  \n",
       "1   -0.214107  \n",
       "2   -0.212307  \n",
       "3   -0.215528  \n",
       "4   -0.211547  \n",
       "5   -0.215485  \n",
       "6   -0.214107  \n",
       "7   -0.212270  \n",
       "8   -0.214083  \n",
       "9   -0.211547  \n",
       "10  -0.210036  \n",
       "11  -0.214107  \n",
       "12  -0.211563  \n",
       "13  -0.211742  \n",
       "14  -0.211547  "
      ]
     },
     "metadata": {},
     "output_type": "display_data"
    },
    {
     "data": {
      "image/png": "[encoded data removed]",
      "text/plain": [
       "<Figure size 576x432 with 1 Axes>"
      ]
     },
     "metadata": {
      "needs_background": "light"
     },
     "output_type": "display_data"
    }
   ],
   "source": [
    "logdf = DisplayResults(\n",
    "        Best_Classifiers_dict,\n",
    "        X_test,\n",
    "        y_test,\n",
    "        logdf,\n",
    "        logdf_col_name\n",
    "        )  "
   ]
  },
  {
   "cell_type": "code",
   "execution_count": 47,
   "metadata": {},
   "outputs": [
    {
     "data": {
      "text/html": [
       "<div>\n",
       "<style scoped>\n",
       "    .dataframe tbody tr th:only-of-type {\n",
       "        vertical-align: middle;\n",
       "    }\n",
       "\n",
       "    .dataframe tbody tr th {\n",
       "        vertical-align: top;\n",
       "    }\n",
       "\n",
       "    .dataframe thead th {\n",
       "        text-align: right;\n",
       "    }\n",
       "</style>\n",
       "<table border=\"1\" class=\"dataframe\">\n",
       "  <thead>\n",
       "    <tr style=\"text-align: right;\">\n",
       "      <th></th>\n",
       "      <th>clf</th>\n",
       "      <th>hyperparameter</th>\n",
       "      <th>F1_score</th>\n",
       "      <th>RPS_score</th>\n",
       "    </tr>\n",
       "  </thead>\n",
       "  <tbody>\n",
       "    <tr>\n",
       "      <th>0</th>\n",
       "      <td>clf_KNN</td>\n",
       "      <td>{'n_neighbors': [38]}</td>\n",
       "      <td>0.427264</td>\n",
       "      <td>-0.215485</td>\n",
       "    </tr>\n",
       "    <tr>\n",
       "      <th>1</th>\n",
       "      <td>clf_logistic</td>\n",
       "      <td>{'C': [50]}</td>\n",
       "      <td>0.453837</td>\n",
       "      <td>-0.214107</td>\n",
       "    </tr>\n",
       "    <tr>\n",
       "      <th>2</th>\n",
       "      <td>clf_SVC</td>\n",
       "      <td>{'C': [0.75]}</td>\n",
       "      <td>0.446637</td>\n",
       "      <td>-0.212307</td>\n",
       "    </tr>\n",
       "    <tr>\n",
       "      <th>3</th>\n",
       "      <td>clf_RF</td>\n",
       "      <td>{'n_estimators': [80, 90, 100], 'max_depth': [...</td>\n",
       "      <td>0.445665</td>\n",
       "      <td>-0.215528</td>\n",
       "    </tr>\n",
       "    <tr>\n",
       "      <th>4</th>\n",
       "      <td>clf_GNB</td>\n",
       "      <td>{}</td>\n",
       "      <td>0.448002</td>\n",
       "      <td>-0.211547</td>\n",
       "    </tr>\n",
       "    <tr>\n",
       "      <th>5</th>\n",
       "      <td>clf_KNN</td>\n",
       "      <td>{'n_neighbors': [38]}</td>\n",
       "      <td>0.427264</td>\n",
       "      <td>-0.215485</td>\n",
       "    </tr>\n",
       "    <tr>\n",
       "      <th>6</th>\n",
       "      <td>clf_logistic</td>\n",
       "      <td>{'C': [50]}</td>\n",
       "      <td>0.453837</td>\n",
       "      <td>-0.214107</td>\n",
       "    </tr>\n",
       "    <tr>\n",
       "      <th>7</th>\n",
       "      <td>clf_SVC</td>\n",
       "      <td>{'C': [0.75]}</td>\n",
       "      <td>0.446637</td>\n",
       "      <td>-0.212270</td>\n",
       "    </tr>\n",
       "    <tr>\n",
       "      <th>8</th>\n",
       "      <td>clf_RF</td>\n",
       "      <td>{'n_estimators': [80, 90, 100], 'max_depth': [...</td>\n",
       "      <td>0.460445</td>\n",
       "      <td>-0.214083</td>\n",
       "    </tr>\n",
       "    <tr>\n",
       "      <th>9</th>\n",
       "      <td>clf_GNB</td>\n",
       "      <td>{}</td>\n",
       "      <td>0.448002</td>\n",
       "      <td>-0.211547</td>\n",
       "    </tr>\n",
       "    <tr>\n",
       "      <th>10</th>\n",
       "      <td>clf_KNN</td>\n",
       "      <td>{'n_neighbors': [350]}</td>\n",
       "      <td>0.419609</td>\n",
       "      <td>-0.210036</td>\n",
       "    </tr>\n",
       "    <tr>\n",
       "      <th>11</th>\n",
       "      <td>clf_logistic</td>\n",
       "      <td>{'C': [47]}</td>\n",
       "      <td>0.453837</td>\n",
       "      <td>-0.214107</td>\n",
       "    </tr>\n",
       "    <tr>\n",
       "      <th>12</th>\n",
       "      <td>clf_SVC</td>\n",
       "      <td>{'C': [0.075]}</td>\n",
       "      <td>0.455431</td>\n",
       "      <td>-0.211563</td>\n",
       "    </tr>\n",
       "    <tr>\n",
       "      <th>13</th>\n",
       "      <td>clf_RF</td>\n",
       "      <td>{'n_estimators': [460], 'max_depth': [18], 'ma...</td>\n",
       "      <td>0.422727</td>\n",
       "      <td>-0.211742</td>\n",
       "    </tr>\n",
       "    <tr>\n",
       "      <th>14</th>\n",
       "      <td>clf_GNB</td>\n",
       "      <td>{}</td>\n",
       "      <td>0.448002</td>\n",
       "      <td>-0.211547</td>\n",
       "    </tr>\n",
       "  </tbody>\n",
       "</table>\n",
       "</div>"
      ],
      "text/plain": [
       "             clf                                     hyperparameter  F1_score  \\\n",
       "0        clf_KNN                              {'n_neighbors': [38]}  0.427264   \n",
       "1   clf_logistic                                        {'C': [50]}  0.453837   \n",
       "2        clf_SVC                                      {'C': [0.75]}  0.446637   \n",
       "3         clf_RF  {'n_estimators': [80, 90, 100], 'max_depth': [...  0.445665   \n",
       "4        clf_GNB                                                 {}  0.448002   \n",
       "5        clf_KNN                              {'n_neighbors': [38]}  0.427264   \n",
       "6   clf_logistic                                        {'C': [50]}  0.453837   \n",
       "7        clf_SVC                                      {'C': [0.75]}  0.446637   \n",
       "8         clf_RF  {'n_estimators': [80, 90, 100], 'max_depth': [...  0.460445   \n",
       "9        clf_GNB                                                 {}  0.448002   \n",
       "10       clf_KNN                             {'n_neighbors': [350]}  0.419609   \n",
       "11  clf_logistic                                        {'C': [47]}  0.453837   \n",
       "12       clf_SVC                                     {'C': [0.075]}  0.455431   \n",
       "13        clf_RF  {'n_estimators': [460], 'max_depth': [18], 'ma...  0.422727   \n",
       "14       clf_GNB                                                 {}  0.448002   \n",
       "\n",
       "    RPS_score  \n",
       "0   -0.215485  \n",
       "1   -0.214107  \n",
       "2   -0.212307  \n",
       "3   -0.215528  \n",
       "4   -0.211547  \n",
       "5   -0.215485  \n",
       "6   -0.214107  \n",
       "7   -0.212270  \n",
       "8   -0.214083  \n",
       "9   -0.211547  \n",
       "10  -0.210036  \n",
       "11  -0.214107  \n",
       "12  -0.211563  \n",
       "13  -0.211742  \n",
       "14  -0.211547  "
      ]
     },
     "metadata": {},
     "output_type": "display_data"
    }
   ],
   "source": [
    "display(logdf.tail(20))"
   ]
  },
  {
   "cell_type": "raw",
   "metadata": {},
   "source": [
    "def print_to_latex(Best_Classifiers_dict):\n",
    "    for clf in Best_Classifiers_dict.keys():\n",
    "        print(\n",
    "            pd.DataFrame(\n",
    "                classification_report(\n",
    "                    y_test,\n",
    "                    Best_Classifiers_dict[clf]['Classifier'].predict(X_test),\n",
    "                    output_dict = True\n",
    "                )\n",
    "            ).T.to_latex()\n",
    "        )\n",
    "        \n",
    "print_to_latex(Best_Classifiers_dict)"
   ]
  },
  {
   "cell_type": "markdown",
   "metadata": {},
   "source": [
    "# Arbitrage Strategy"
   ]
  },
  {
   "cell_type": "code",
   "execution_count": 34,
   "metadata": {},
   "outputs": [],
   "source": [
    "data['Cs'] = 1/(data[['H_proba_min','D_proba_min','A_proba_min']].sum(axis=1))\n",
    "Arbitrages = data[['Date','Cs']][data['Cs']>1]\n",
    "Arbitrages.index = Arbitrages['Date']\n",
    "Arbitrages.drop(columns='Date',axis=1, inplace=True)\n",
    "Max_Arbitrage = Arbitrages.groupby(by='Date').max()\n",
    "\n",
    "NbrArb_peryear = Max_Arbitrage.resample('Y').count()\n",
    "NbrArb_peryear.columns = ['Nbr_arbitrage']\n",
    "NbrArb_peryear.index = NbrArb_peryear.index.year"
   ]
  },
  {
   "cell_type": "code",
   "execution_count": 35,
   "metadata": {},
   "outputs": [
    {
     "data": {
      "text/plain": [
       "<matplotlib.axes._subplots.AxesSubplot at 0x26321f43518>"
      ]
     },
     "execution_count": 35,
     "metadata": {},
     "output_type": "execute_result"
    },
    {
     "data": {
      "image/png": "[encoded data removed]",
      "text/plain": [
       "<Figure size 576x432 with 1 Axes>"
      ]
     },
     "metadata": {
      "needs_background": "light"
     },
     "output_type": "display_data"
    }
   ],
   "source": [
    "NbrArb_peryear.plot.bar(figsize=(8,6), title='Number of arbitrage opportunity per year')"
   ]
  },
  {
   "cell_type": "code",
   "execution_count": 36,
   "metadata": {},
   "outputs": [
    {
     "data": {
      "text/plain": [
       "Text(0, 0.5, 'R')"
      ]
     },
     "execution_count": 36,
     "metadata": {},
     "output_type": "execute_result"
    },
    {
     "data": {
      "image/png": "[encoded data removed]",
      "text/plain": [
       "<Figure size 576x432 with 1 Axes>"
      ]
     },
     "metadata": {
      "needs_background": "light"
     },
     "output_type": "display_data"
    }
   ],
   "source": [
    "(Max_Arbitrage-1).plot(figsize=(8,6), title='Arbitrage returns',legend=False)\n",
    "plt.ylabel('R')"
   ]
  },
  {
   "cell_type": "code",
   "execution_count": 37,
   "metadata": {},
   "outputs": [
    {
     "data": {
      "text/plain": [
       "<matplotlib.axes._subplots.AxesSubplot at 0x26322136160>"
      ]
     },
     "execution_count": 37,
     "metadata": {},
     "output_type": "execute_result"
    },
    {
     "data": {
      "image/png": "[encoded data removed]",
      "text/plain": [
       "<Figure size 576x432 with 1 Axes>"
      ]
     },
     "metadata": {
      "needs_background": "light"
     },
     "output_type": "display_data"
    }
   ],
   "source": [
    "R_peryear = Max_Arbitrage.resample('Y').prod()-1\n",
    "R_peryear.columns = ['R']\n",
    "R_peryear.index = R_peryear.index.year\n",
    "R_peryear.plot.bar(figsize=(8,6), title='Return per year')"
   ]
  },
  {
   "cell_type": "code",
   "execution_count": 38,
   "metadata": {},
   "outputs": [
    {
     "data": {
      "text/plain": [
       "Text(0, 0.5, '$')"
      ]
     },
     "execution_count": 38,
     "metadata": {},
     "output_type": "execute_result"
    },
    {
     "data": {
      "image/png": "[encoded data removed]",
      "text/plain": [
       "<Figure size 576x432 with 1 Axes>"
      ]
     },
     "metadata": {
      "needs_background": "light"
     },
     "output_type": "display_data"
    }
   ],
   "source": [
    "Max_Arbitrage.cumprod().plot(figsize=(8,6), title='Cummulative performance of 1$',legend=False)\n",
    "plt.ylabel('$')"
   ]
  }
 ],
 "metadata": {
  "kernelspec": {
   "display_name": "Python 3",
   "language": "python",
   "name": "python3"
  },
  "language_info": {
   "codemirror_mode": {
    "name": "ipython",
    "version": 3
   },
   "file_extension": ".py",
   "mimetype": "text/x-python",
   "name": "python",
   "nbconvert_exporter": "python",
   "pygments_lexer": "ipython3",
   "version": "3.7.1"
  }
 },
 "nbformat": 4,
 "nbformat_minor": 2
}
